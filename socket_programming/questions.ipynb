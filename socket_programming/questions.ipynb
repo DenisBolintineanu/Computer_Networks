{
 "cells": [
  {
   "cell_type": "markdown",
   "metadata": {},
   "source": [
    "<H1> Socket Programming <H3>"
   ]
  },
  {
   "cell_type": "markdown",
   "metadata": {},
   "source": [
    "<H3> 4.2 Netzwerk-Kommunikation <H3>"
   ]
  },
  {
   "cell_type": "markdown",
   "metadata": {},
   "source": [
    "1. Wie können Sie im Client Python-Skript die IP-Adresse und Port-Nummer des verwendeten\n",
    "lokalen Sockets bestimmen („bestimmen“ im Sinne von herausfinden)?\n",
    "\n",
    "        local_ip, local_port = sock.getsockname()\n",
    "        print(f'Local IP: {local_ip}, Local Port: {local_port}')\n",
    "\n",
    "2. Wann (in welcher Code-Zeile) und woher erhält ein Client seine IP-Adresse und Port-Nummer?\n",
    "\n",
    "        sock.connect((Server_IP, Server_PORT))\n",
    "    \n",
    "3. Wie können Sie im Client-Skript die IP-Adresse und Port-Nummer des Sockets setzen?\n",
    "\n",
    "        sock.bind((Server_IP, 40000))\n",
    "\n",
    "4. Warum müssen Sie Timeouts verwenden und wie funktioniert try … except? Mit welchem Befehl\n",
    "können Sie einen gemeinsamen Timeout für alle Sockets setzen?\n",
    "\n",
    "5. Finden Sie experimentell heraus, ob Sie einen Server betreiben können, der ECHO-Anfragen auf\n",
    "dem gleichen Port für UDP und TCP beantwortet?"
   ]
  },
  {
   "cell_type": "markdown",
   "metadata": {},
   "source": []
  }
 ],
 "metadata": {
  "language_info": {
   "name": "python"
  }
 },
 "nbformat": 4,
 "nbformat_minor": 2
}
