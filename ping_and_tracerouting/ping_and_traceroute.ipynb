{
 "cells": [
  {
   "cell_type": "markdown",
   "id": "60709c833592ef6b",
   "metadata": {
    "collapsed": false
   },
   "source": [
    "<h1> Ping </h1>"
   ]
  },
  {
   "cell_type": "markdown",
   "id": "30ee79e2ba5caf58",
   "metadata": {
    "collapsed": false
   },
   "source": [
    "![](Bildschirmfoto%202023-11-07%20um%2017.32.15.png)"
   ]
  },
  {
   "cell_type": "markdown",
   "id": "2ac27da216b20e30",
   "metadata": {
    "collapsed": false
   },
   "source": [
    "<h2>Exercise 2.1.1</h2>"
   ]
  },
  {
   "cell_type": "markdown",
   "id": "4fa8b0bb5dabc5a4",
   "metadata": {
    "collapsed": false
   },
   "source": [
    "the ICMP packets that are sent when the ping command is executed are the \"Echo (ping) request\" packets. The responses from the target IP are the \"Echo (ping) reply\" packets. These packets can be identified in Wireshark with the protocol listed as ICMP and the info column indicating \"Echo (ping) request\" or \"Echo (ping) reply\" along with other details like the identifier and sequence number."
   ]
  },
  {
   "cell_type": "markdown",
   "id": "770de792d3412e01",
   "metadata": {
    "collapsed": false
   },
   "source": [
    "<h2>Exercise 2.1.2</h2>"
   ]
  },
  {
   "cell_type": "markdown",
   "id": "dfa2bc3e3e74ab39",
   "metadata": {
    "collapsed": false
   },
   "source": [
    "The protocols used for transmitting these packets, are the Internet Control Message Protocol (ICMP) for the messages themselves, encapsulated within the Internet Protocol (IP) for routing and delivery across the network. Additionally, the data link layer is using the Ethernet protocol for the physical network communication. "
   ]
  },
  {
   "cell_type": "markdown",
   "id": "5eb0266c539a9614",
   "metadata": {
    "collapsed": false
   },
   "source": [
    "<h2>Exercise 2.1.3</h2>"
   ]
  },
  {
   "cell_type": "markdown",
   "id": "3878fa00129bb4e6",
   "metadata": {
    "collapsed": false
   },
   "source": [
    "![](Bildschirmfoto%202023-11-07%20um%2018.10.33.png)"
   ]
  },
  {
   "cell_type": "markdown",
   "id": "7952e82b6446ca15",
   "metadata": {
    "collapsed": false
   },
   "source": [
    "Each pair of request and reply packets confirms a successful ping, with round-trip times listed, such as the 34.445 milliseconds in this capture. This time helps to measure the network latency between the two hosts."
   ]
  },
  {
   "cell_type": "markdown",
   "id": "8941663f4512243f",
   "metadata": {
    "collapsed": false
   },
   "source": [
    "<h2> Exercise 2.1.4 </h2>"
   ]
  },
  {
   "cell_type": "markdown",
   "id": "dfea499c34392a87",
   "metadata": {
    "collapsed": false
   },
   "source": [
    "```\n",
    "ip.addr == 104.70.81.2 && icmp\n",
    "```\n",
    "\n",
    "This filter will display all ICMP traffic (which is used by the ping command) to and from the IP address 104.70.81.2."
   ]
  },
  {
   "cell_type": "markdown",
   "id": "c4550303bcda44cc",
   "metadata": {
    "collapsed": false
   },
   "source": [
    "<h2> Exercise 2.2.1 </h2>\n"
   ]
  },
  {
   "cell_type": "code",
   "execution_count": 1,
   "id": "172ba596c71e80a8",
   "metadata": {
    "collapsed": false,
    "ExecuteTime": {
     "end_time": "2023-12-02T03:15:13.163351Z",
     "start_time": "2023-12-02T03:15:13.155113Z"
    }
   },
   "outputs": [
    {
     "ename": "ModuleNotFoundError",
     "evalue": "No module named 'numpy'",
     "output_type": "error",
     "traceback": [
      "\u001B[0;31m---------------------------------------------------------------------------\u001B[0m",
      "\u001B[0;31mModuleNotFoundError\u001B[0m                       Traceback (most recent call last)",
      "Cell \u001B[0;32mIn[1], line 1\u001B[0m\n\u001B[0;32m----> 1\u001B[0m \u001B[38;5;28;01mimport\u001B[39;00m \u001B[38;5;21;01mnumpy\u001B[39;00m \u001B[38;5;28;01mas\u001B[39;00m \u001B[38;5;21;01mnp\u001B[39;00m\n\u001B[1;32m      2\u001B[0m \u001B[38;5;28;01mimport\u001B[39;00m \u001B[38;5;21;01mmatplotlib\u001B[39;00m\u001B[38;5;21;01m.\u001B[39;00m\u001B[38;5;21;01mpyplot\u001B[39;00m \u001B[38;5;28;01mas\u001B[39;00m \u001B[38;5;21;01mplt\u001B[39;00m\n\u001B[1;32m      3\u001B[0m \u001B[38;5;28;01mdef\u001B[39;00m \u001B[38;5;21mplot_ping_output\u001B[39m(region):\n",
      "\u001B[0;31mModuleNotFoundError\u001B[0m: No module named 'numpy'"
     ]
    }
   ],
   "source": [
    "import numpy as np\n",
    "import matplotlib.pyplot as plt\n",
    "def plot_ping_output(region):\n",
    "    file_path = 'latency_measurements/ping_output_' + region + '.txt'\n",
    "    with open(file_path, 'r') as file:\n",
    "        lines = file.readlines()\n",
    "        time_values_from_file = np.array([float(line.split('time=')[1].split(' ')[0]) \n",
    "                                      for line in lines if \"time=\" in line])\n",
    "    plt.figure(figsize=(15, 5))\n",
    "    plt.plot(time_values_from_file, marker='o')\n",
    "    plt.title('Ping Response Times for ' + region)\n",
    "    plt.xlabel('Ping Sequence Number')\n",
    "    plt.ylabel('Time (ms)')\n",
    "    plt.grid(True)\n",
    "    plt.show()\n",
    "    print('mean latency for ' + region + ': ' + str(np.mean(time_values_from_file)) + \"ms\")"
   ]
  },
  {
   "cell_type": "code",
   "execution_count": null,
   "id": "85f0cc0521f9041d",
   "metadata": {
    "collapsed": false,
    "ExecuteTime": {
     "start_time": "2023-12-02T03:15:13.165088Z"
    }
   },
   "outputs": [],
   "source": [
    "plot_ping_output('usa')"
   ]
  },
  {
   "cell_type": "code",
   "execution_count": null,
   "id": "ef805da3c7c22e8",
   "metadata": {
    "collapsed": false,
    "ExecuteTime": {
     "start_time": "2023-12-02T03:15:13.166806Z"
    }
   },
   "outputs": [],
   "source": [
    "plot_ping_output('htwg')"
   ]
  },
  {
   "cell_type": "code",
   "execution_count": null,
   "id": "1baae246a05806ee",
   "metadata": {
    "collapsed": false,
    "ExecuteTime": {
     "start_time": "2023-12-02T03:15:13.168384Z"
    }
   },
   "outputs": [],
   "source": [
    "plot_ping_output('germany')"
   ]
  },
  {
   "cell_type": "code",
   "execution_count": null,
   "id": "e6cefb385e787f44",
   "metadata": {
    "collapsed": false,
    "ExecuteTime": {
     "start_time": "2023-12-02T03:15:13.170173Z"
    }
   },
   "outputs": [],
   "source": [
    "plot_ping_output('australia')"
   ]
  },
  {
   "cell_type": "markdown",
   "id": "15faf5d86268d5a6",
   "metadata": {
    "collapsed": false
   },
   "source": [
    "<h2> Exercise 2.2.2 </h2>"
   ]
  },
  {
   "cell_type": "code",
   "execution_count": null,
   "id": "11d1107902183d72",
   "metadata": {
    "collapsed": false,
    "ExecuteTime": {
     "start_time": "2023-12-02T03:15:13.171774Z"
    }
   },
   "outputs": [],
   "source": [
    "packet_sizes = [100, 150, 200, 250, 300, 350, 400, 450, 500]\n",
    "average_latencies = []\n",
    "for i in packet_sizes:\n",
    "    file_path = 'latency_measurements/ping_output_' + str(i) + '.txt'\n",
    "    with open(file_path, 'r') as file:\n",
    "        lines = file.readlines()\n",
    "        time_values_from_file = np.array([float(line.split('time=')[1].split(' ')[0]) \n",
    "                                      for line in lines if \"time=\" in line])\n",
    "        average_latencies.append(np.mean(time_values_from_file))"
   ]
  },
  {
   "cell_type": "code",
   "execution_count": null,
   "id": "905922401afa1907",
   "metadata": {
    "collapsed": false,
    "ExecuteTime": {
     "start_time": "2023-12-02T03:15:13.173251Z"
    }
   },
   "outputs": [],
   "source": [
    "    plt.figure(figsize=(15, 5))\n",
    "    plt.plot(packet_sizes, average_latencies, marker='o')\n",
    "    plt.title('Ping Response Times')\n",
    "    plt.xlabel('Packet size in byte')\n",
    "    plt.ylabel('average Time (ms)')\n",
    "    plt.grid(True)\n",
    "    plt.show()"
   ]
  },
  {
   "cell_type": "markdown",
   "id": "37bc47a0b492edf8",
   "metadata": {
    "collapsed": false
   },
   "source": [
    "<h1> Traceroute </h1>"
   ]
  },
  {
   "cell_type": "markdown",
   "id": "289fe5f6cecad218",
   "metadata": {
    "collapsed": false
   },
   "source": [
    "<h2> Exercise 3 </h2>"
   ]
  },
  {
   "cell_type": "code",
   "execution_count": null,
   "id": "ea5990ab4a48e185",
   "metadata": {
    "collapsed": false,
    "ExecuteTime": {
     "start_time": "2023-12-02T03:15:13.175004Z"
    }
   },
   "outputs": [],
   "source": [
    "import folium\n",
    "def draw_traceroute(locations):\n",
    "    m = folium.Map(location=locations[0], zoom_start=2)\n",
    "    for i in range(len(locations)-1):\n",
    "        folium.PolyLine([locations[i], locations[i+1]], color=\"blue\", weight=2.5, opacity=1).add_to(m)\n",
    "    folium.Marker(locations[0], popup='Start', icon=folium.Icon(color='green')).add_to(m)\n",
    "    folium.Marker(locations[-1], popup='Target', icon=folium.Icon(color='red')).add_to(m)\n",
    "    return m"
   ]
  },
  {
   "cell_type": "markdown",
   "id": "d9e688e998c78c65",
   "metadata": {
    "collapsed": false
   },
   "source": [
    "<h3> From Dallas to Konstanz </h3>"
   ]
  },
  {
   "cell_type": "markdown",
   "id": "d7b4a0a6b4dc1330",
   "metadata": {
    "collapsed": false
   },
   "source": [
    "<table>\n",
    "  <tr>\n",
    "    <th>hop</th>\n",
    "    <th>rtt</th>\n",
    "    <th>rtt</th>\n",
    "    <th>rtt</th>\n",
    "    <th>ip address</th>\n",
    "    <th>fully qualified domain name</th>\n",
    "    <th>asn</th>\n",
    "  </tr>\n",
    "  <tr>\n",
    "    <td>1</td>\n",
    "    <td>2</td>\n",
    "    <td>2</td>\n",
    "    <td>1</td>\n",
    "    <td>169.254.158.58</td>\n",
    "    <td></td>\n",
    "  </tr>\n",
    "  <tr>\n",
    "    <td>2</td>\n",
    "    <td>1</td>\n",
    "    <td>4</td>\n",
    "    <td>1</td>\n",
    "    <td>169.48.118.158</td>\n",
    "    <td>ae103.ppr02.dal13.networklayer.com</td>\n",
    "    <td>SoftLayer Technologies Inc.</td>\n",
    "  </tr>\n",
    "  <tr>\n",
    "    <td>3</td>\n",
    "    <td>1</td>\n",
    "    <td>0</td>\n",
    "    <td>0</td>\n",
    "    <td>169.48.118.138</td>\n",
    "    <td>8a.76.30a9.ip4.static.sl-reverse.com</td>\n",
    "    <td>SoftLayer Technologies Inc.</td>\n",
    "  </tr>\n",
    "  <tr>\n",
    "    <td>4</td>\n",
    "    <td>*</td>\n",
    "    <td>*</td>\n",
    "    <td>3</td>\n",
    "    <td>169.45.18.42</td>\n",
    "    <td>ae17.cbs02.dr01.dal04.networklayer.com</td>\n",
    "    <td>SoftLayer Technologies Inc.</td>\n",
    "  </tr>\n",
    "  <tr>\n",
    "    <td>5</td>\n",
    "    <td>54</td>\n",
    "    <td>30</td>\n",
    "    <td>*</td>\n",
    "    <td>169.45.18.5</td>\n",
    "    <td>ae2.cbs01.eq01.chi01.networklayer.com</td>\n",
    "    <td>SoftLayer Technologies Inc.</td>\n",
    "  </tr>\n",
    "  <tr>\n",
    "    <td>6</td>\n",
    "    <td>44</td>\n",
    "    <td>102</td>\n",
    "    <td>44</td>\n",
    "    <td>50.97.17.49</td>\n",
    "    <td>ae0.cbs02.tl01.nyc01.networklayer.com</td>\n",
    "    <td>SoftLayer Technologies Inc.</td>\n",
    "  </tr>\n",
    "  <tr>\n",
    "    <td>7</td>\n",
    "    <td>116</td>\n",
    "    <td>*</td>\n",
    "    <td>*</td>\n",
    "    <td>169.45.19.47</td>\n",
    "    <td>ae1.cbs01.tg01.lon01.networklayer.com</td>\n",
    "    <td>SoftLayer Technologies Inc.</td>\n",
    "  </tr>\n",
    "  <tr>\n",
    "    <td>8</td>\n",
    "    <td>122</td>\n",
    "    <td>122</td>\n",
    "    <td>122</td>\n",
    "    <td>50.97.19.190</td>\n",
    "    <td>ae0.cbs01.xn01.fra01.networklayer.com</td>\n",
    "    <td>SoftLayer Technologies Inc.</td>\n",
    "  </tr>\n",
    "  <tr>\n",
    "    <td>9</td>\n",
    "    <td>122</td>\n",
    "    <td>122</td>\n",
    "    <td>122</td>\n",
    "    <td>169.45.18.167</td>\n",
    "    <td>a7.12.2da9.ip4.static.sl-reverse.com</td>\n",
    "    <td>SoftLayer Technologies Inc.</td>\n",
    "  </tr>\n",
    "  <tr>\n",
    "    <td>10</td>\n",
    "    <td>121</td>\n",
    "    <td>121</td>\n",
    "    <td>121</td>\n",
    "    <td>80.81.192.222</td>\n",
    "    <td>cr-fra2-be1.x-win.dfn.de</td>\n",
    "    <td>DE-CIX Management GmbH</td>\n",
    "  </tr>\n",
    "  <tr>\n",
    "    <td>11</td>\n",
    "    <td>125</td>\n",
    "    <td>125</td>\n",
    "    <td>125</td>\n",
    "    <td>129.143.58.153</td>\n",
    "    <td>frb-rz-1-hu0-0-1-0.belwue.net</td>\n",
    "    <td>Universitaet Stuttgart</td>\n",
    "  </tr>\n",
    "  <tr>\n",
    "    <td>12</td>\n",
    "    <td>127</td>\n",
    "    <td>127</td>\n",
    "    <td>127</td>\n",
    "    <td>129.143.59.21</td>\n",
    "    <td>frb-kg-1-te0-0-0-6.belwue.net</td>\n",
    "    <td>Universitaet Stuttgart</td>\n",
    "  </tr>\n",
    "  <tr>\n",
    "    <td>13</td>\n",
    "    <td>128</td>\n",
    "    <td>128</td>\n",
    "    <td>128</td>\n",
    "    <td>129.143.59.18</td>\n",
    "    <td>loe-dhbw-1-te0-1-0.belwue.net</td>\n",
    "    <td>Universitaet Stuttgart</td>\n",
    "  </tr>\n",
    "  <tr>\n",
    "    <td>14</td>\n",
    "    <td>130</td>\n",
    "    <td>130</td>\n",
    "    <td>130</td>\n",
    "    <td>129.143.59.13</td>\n",
    "    <td>kon-rz-1-te0-0-0-13.belwue.net</td>\n",
    "    <td>Universitaet Stuttgart</td>\n",
    "  </tr>\n",
    "  <tr>\n",
    "    <td>15</td>\n",
    "    <td>128</td>\n",
    "    <td>*</td>\n",
    "    <td>*</td>\n",
    "    <td>129.143.47.226</td>\n",
    "    <td></td>\n",
    "    <td>Universitaet Stuttgart</td>\n",
    "  </tr>\n",
    "  <tr>\n",
    "    <td>16</td>\n",
    "    <td>130</td>\n",
    "    <td>130</td>\n",
    "    <td>130</td>\n",
    "    <td>141.37.20.17</td>\n",
    "    <td>cmssrv6.htwg-konstanz.de</td>\n",
    "    <td>Universitaet Stuttgart</td>\n",
    "  </tr>\n",
    "</table>\n",
    "\n"
   ]
  },
  {
   "cell_type": "code",
   "execution_count": null,
   "id": "1395e795bb363110",
   "metadata": {
    "collapsed": false,
    "ExecuteTime": {
     "start_time": "2023-12-02T03:15:13.176287Z"
    }
   },
   "outputs": [],
   "source": [
    "locations = [\n",
    "    (32.78306, -96.8065),\n",
    "    (41.875772, -87.620606),\n",
    "    (40.713192, -74.006065),\n",
    "    (51.50853, -0.12574),\n",
    "    (50.1109, 8.6820),\n",
    "    (47.9990, 7.8421),\n",
    "    (47.6169191, 7.6709248),\n",
    "    (47.6779, 9.1732)\n",
    "]\n",
    "draw_traceroute(locations)"
   ]
  },
  {
   "cell_type": "markdown",
   "id": "b371c51e5f752568",
   "metadata": {
    "collapsed": false
   },
   "source": [
    "<h3> From Dallas to Schaffhausen </h3>"
   ]
  },
  {
   "cell_type": "markdown",
   "id": "4f7938fde1c90d74",
   "metadata": {
    "collapsed": false
   },
   "source": [
    "<table border=\"1\">\n",
    "  <tr>\n",
    "    <th>hop</th>\n",
    "    <th>rtt1</th>\n",
    "    <th>rtt2</th>\n",
    "    <th>rtt3</th>\n",
    "    <th>ip address</th>\n",
    "    <th>fully qualified domain name</th>\n",
    "    <th>asn</th>\n",
    "  </tr>\n",
    "  <tr>\n",
    "    <td>1</td>\n",
    "    <td>3</td>\n",
    "    <td>1</td>\n",
    "    <td>1</td>\n",
    "    <td>169.254.158.58</td>\n",
    "    <td></td>\n",
    "    <td>SoftLayer Technologies Inc.</td>\n",
    "  </tr>\n",
    "  <tr>\n",
    "    <td>2</td>\n",
    "    <td>1</td>\n",
    "    <td>1</td>\n",
    "    <td>1</td>\n",
    "    <td>169.48.118.160</td>\n",
    "    <td>ae103.ppr03.dal13.networklayer.com</td>\n",
    "    <td>SoftLayer Technologies Inc.</td>\n",
    "  </tr>\n",
    "  <tr>\n",
    "    <td>3</td>\n",
    "    <td>1</td>\n",
    "    <td>1</td>\n",
    "    <td>1</td>\n",
    "    <td>169.48.118.140</td>\n",
    "    <td>8c.76.30a9.ip4.static.sl-reverse.com</td>\n",
    "    <td>SoftLayer Technologies Inc.</td>\n",
    "  </tr>\n",
    "  <tr>\n",
    "    <td>4</td>\n",
    "    <td>3</td>\n",
    "    <td>*</td>\n",
    "    <td>3</td>\n",
    "    <td>169.45.18.42</td>\n",
    "    <td>ae17.cbs02.dr01.dal04.networklayer.com</td>\n",
    "    <td>SoftLayer Technologies Inc.</td>\n",
    "  </tr>\n",
    "  <tr>\n",
    "    <td>5</td>\n",
    "    <td>27</td>\n",
    "    <td>25</td>\n",
    "    <td>25</td>\n",
    "    <td>169.45.18.5</td>\n",
    "    <td>ae2.cbs01.eq01.chi01.networklayer.com</td>\n",
    "    <td>SoftLayer Technologies Inc.</td>\n",
    "  </tr>\n",
    "  <tr>\n",
    "    <td>6</td>\n",
    "    <td>46</td>\n",
    "    <td>46</td>\n",
    "    <td>*</td>\n",
    "    <td>50.97.17.49</td>\n",
    "    <td>ae0.cbs02.tl01.nyc01.networklayer.com</td>\n",
    "    <td>SoftLayer Technologies Inc.</td>\n",
    "  </tr>\n",
    "  <tr>\n",
    "    <td>7</td>\n",
    "    <td>*</td>\n",
    "    <td>*</td>\n",
    "    <td>*</td>\n",
    "    <td></td>\n",
    "    <td></td>\n",
    "  </tr>\n",
    "  <tr>\n",
    "    <td>8</td>\n",
    "    <td>111</td>\n",
    "    <td>111</td>\n",
    "    <td>111</td>\n",
    "    <td>169.45.18.13</td>\n",
    "    <td>d.12.2da9.ip4.static.sl-reverse.com</td>\n",
    "    <td>SoftLayer Technologies Inc.</td>\n",
    "  </tr>\n",
    "  <tr>\n",
    "    <td>9</td>\n",
    "    <td>*</td>\n",
    "    <td>*</td>\n",
    "    <td>*</td>\n",
    "    <td></td>\n",
    "    <td></td>\n",
    "  </tr>\n",
    "  <tr>\n",
    "    <td>10</td>\n",
    "    <td>*</td>\n",
    "    <td>*</td>\n",
    "    <td>*</td>\n",
    "    <td></td>\n",
    "    <td></td>\n",
    "    <td></td>\n",
    "  </tr>\n",
    "  <tr>\n",
    "    <td>11</td>\n",
    "    <td>135</td>\n",
    "    <td>135</td>\n",
    "    <td>135</td>\n",
    "    <td>84.116.134.134</td>\n",
    "    <td>fr-par02b-rd1-ae-11-0.aorta.net</td>\n",
    "    <td>Liberty Global B.V.</td>\n",
    "  </tr>\n",
    "  <tr>\n",
    "    <td>12</td>\n",
    "    <td>136</td>\n",
    "    <td>135</td>\n",
    "    <td>135</td>\n",
    "    <td>84.116.130.226</td>\n",
    "    <td>ch-nax01a-rc1-ae-10-0.aorta.net</td>\n",
    "    <td>Liberty Global B.V.</td>\n",
    "  </tr>\n",
    "  <tr>\n",
    "    <td>13</td>\n",
    "    <td>136</td>\n",
    "    <td>136</td>\n",
    "    <td>136</td>\n",
    "    <td>84.116.133.154</td>\n",
    "    <td>ch-gva01a-ri1-ae-0-0.aorta.net</td>\n",
    "    <td>Liberty Global B.V.</td>\n",
    "  </tr>\n",
    "  <tr>\n",
    "    <td>14</td>\n",
    "    <td>135</td>\n",
    "    <td>135</td>\n",
    "    <td>135</td>\n",
    "    <td>212.161.215.62</td>\n",
    "    <td></td>\n",
    "    <td>Sunrise GmbH</td>\n",
    "  </tr>\n",
    "  <tr>\n",
    "    <td>15</td>\n",
    "    <td>*</td>\n",
    "    <td>*</td>\n",
    "    <td>*</td>\n",
    "    <td></td>\n",
    "    <td></td>\n",
    "  </tr>\n",
    "  <tr>\n",
    "    <td>16</td>\n",
    "    <td>*</td>\n",
    "    <td>*</td>\n",
    "    <td>*</td>\n",
    "    <td></td>\n",
    "    <td></td>\n",
    "    <td></td>\n",
    "  </tr>\n",
    "  <tr>\n",
    "    <td>17</td>\n",
    "    <td>132</td>\n",
    "    <td>132</td>\n",
    "    <td>132</td>\n",
    "    <td>212.161.247.131</td>\n",
    "    <td>zur01pe20.100ge3-0-0.bb.sunrise.net</td>\n",
    "    <td>Sunrise GmbH</td>\n",
    "  </tr>\n",
    "  <tr>\n",
    "    <td>18</td>\n",
    "    <td>*</td>\n",
    "    <td>*</td>\n",
    "    <td>*</td>\n",
    "    <td></td>\n",
    "    <td></td>\n",
    "    <td></td>\n",
    "  </tr>\n",
    "  <tr>\n",
    "    <td>19</td>\n",
    "    <td>*</td>\n",
    "    <td>*</td>\n",
    "    <td>*</td>\n",
    "    <td></td>\n",
    "    <td></td>\n",
    "  </tr>\n",
    "  <tr>\n",
    "    <td>20</td>\n",
    "    <td>*</td>\n",
    "    <td>*</td>\n",
    "    <td>*</td>\n",
    "    <td></td>\n",
    "    <td></td>\n",
    "    <td></td>\n",
    "  </tr>\n",
    "  <tr>\n",
    "    <td>21</td>\n",
    "    <td>135</td>\n",
    "    <td>134</td>\n",
    "    <td>134</td>\n",
    "    <td>188.155.170.162</td>\n",
    "    <td>xdsl-188-155-170-162.adslplus.ch</td>\n",
    "    <td>Sunrise GmbH</td>\n",
    "  </tr>\n",
    "</table>\n"
   ]
  },
  {
   "cell_type": "code",
   "execution_count": null,
   "id": "4612fb1ad0ec3344",
   "metadata": {
    "collapsed": false,
    "ExecuteTime": {
     "start_time": "2023-12-02T03:15:13.177376Z"
    }
   },
   "outputs": [],
   "source": [
    "locations = [\n",
    "    (32.78306, -96.8065),\n",
    "    (41.875772, -87.620606),\n",
    "    (40.713192, -74.006065),\n",
    "    (51.50853, -0.12574),\n",
    "    (48.859078, 2.293486),\n",
    "    (46.202102, 6.14588),\n",
    "    (47.366825, 8.54979),\n",
    "    (47.47333, 8.30592)\n",
    "]\n",
    "draw_traceroute(locations)"
   ]
  },
  {
   "cell_type": "markdown",
   "id": "4a53c310c336e29a",
   "metadata": {
    "collapsed": false
   },
   "source": [
    "<h3> From Dallas to Palo Alto (Google.com)</h3>"
   ]
  },
  {
   "cell_type": "code",
   "execution_count": null,
   "id": "cefb8a02db775d34",
   "metadata": {
    "collapsed": false,
    "ExecuteTime": {
     "start_time": "2023-12-02T03:15:13.178349Z"
    }
   },
   "outputs": [],
   "source": [
    "locations = [\n",
    "    (32.78306, -96.8065),\n",
    "    (37.33939, -121.89496),\n",
    "    (37.405992, -122.078515)\n",
    "]\n",
    "draw_traceroute(locations)"
   ]
  },
  {
   "cell_type": "markdown",
   "id": "55978d15d1c3b81e",
   "metadata": {
    "collapsed": false
   },
   "source": [
    "<h3> From Dallas to Nagoya, Japan </h2>"
   ]
  },
  {
   "cell_type": "code",
   "execution_count": null,
   "id": "8092a65c5e251443",
   "metadata": {
    "collapsed": false,
    "ExecuteTime": {
     "start_time": "2023-12-02T03:15:13.179242Z"
    }
   },
   "outputs": [],
   "source": [
    "locations = [\n",
    "    (32.78306, -96.8065),\n",
    "    (34.0526, -118.2439),\n",
    "    (35.69156, 139.76755),\n",
    "    (34.6937, 135.5022),\n",
    "    (35.1815, 136.9064),\n",
    "]\n",
    "draw_traceroute(locations)"
   ]
  },
  {
   "cell_type": "markdown",
   "metadata": {},
   "source": [
    "<h1> Network Latency </h1>"
   ],
   "id": "9c2c7f3305a51380"
  },
  {
   "cell_type": "markdown",
   "metadata": {},
   "source": [
    "<h2> Exercise 4 </h2>"
   ],
   "id": "bc4289f173783249"
  },
  {
   "cell_type": "markdown",
   "metadata": {},
   "source": [
    "<h3> 4.1 <h3>"
   ],
   "id": "92f624da7d946b98"
  },
  {
   "cell_type": "markdown",
   "metadata": {},
   "source": [
    "Router: Equinix Singapore (SG1),  Interxion Paris 2, Equinix Los Angeles (LA1)"
   ],
   "id": "19aab5caf1ddd3d0"
  },
  {
   "cell_type": "markdown",
   "metadata": {},
   "source": [
    "![](LookingGlas.png)"
   ],
   "id": "6e494f363861e2cc"
  },
  {
   "cell_type": "markdown",
   "metadata": {},
   "source": [
    "\n",
    "Connection between Singapore and Frankfurt: based on the displayed hops starting from hop 3, suggests that the initial hops possible be a network switch, and the second hop could be a route to Marseille, eventually connecting to Frankfurt from there."
   ],
   "id": "5a8c4359787b346b"
  },
  {
   "cell_type": "markdown",
   "metadata": {},
   "source": [
    "<h3> 4.2 <h3>"
   ],
   "id": "dde42ab05fb68f95"
  },
  {
   "cell_type": "markdown",
   "metadata": {},
   "source": [
    "**One-Way-Delay:** können in den Entsprechenden Zeilen im Bild oben abgelesen werden"
   ],
   "id": "609ea25ec9cb01b8"
  },
  {
   "cell_type": "markdown",
   "metadata": {},
   "source": [
    "<h3> 4.3 <h3>"
   ],
   "id": "c23e0de26c23b015"
  },
  {
   "cell_type": "code",
   "execution_count": null,
   "metadata": {
    "ExecuteTime": {
     "start_time": "2023-12-02T03:15:13.180005Z"
    }
   },
   "outputs": [],
   "source": [
    "Speed_of_light             = 1_079_252_000  # km/h\n",
    "Straight_line_distance     = 11_301.68      # km\n",
    "\n",
    "Minimal_speed              = Straight_line_distance / Speed_of_light  # hours\n",
    "Minimal_speed_ms           = Minimal_speed * 3600000\n",
    "\n",
    "Required_speed             = 856295          # m/s\n",
    "\n",
    "print(\"Minimal Speed: \" + str(Minimal_speed) + \"h\")\n",
    "print(\"Minimal Speed: \" + str(Minimal_speed_ms) + \"ms\")\n",
    "print(\"Required Speed: \" + str(Required_speed) + \"ms\")\n",
    "print(\"Difference: \" + str((Required_speed - Minimal_speed_ms)) + \"ms\")\n"
   ],
   "id": "d73b23512e567c4f"
  },
  {
   "cell_type": "markdown",
   "metadata": {},
   "source": [
    "\n",
    "<h3>Causes for Delay<h3>\n",
    "Routing Decisions:\n",
    "Packets may not take the direct route but might be routed through various network nodes due to routing decisions, resulting in additional delays.\n",
    "\n",
    "Network Congestion: Congestion or overloads in specific network segments can lead to delays as packets have to wait for processing.\n",
    "\n",
    "Quality of Transmission Media: The physical media through which data is transmitted can cause signal losses or delays.\n",
    "\n",
    "Processing Times at Routers: The time a router takes to process and forward packets also contributes to the overall delay."
   ],
   "id": "c18b97838a6dfa45"
  }
 ],
 "metadata": {
  "kernelspec": {
   "display_name": "Python 3 (ipykernel)",
   "language": "python",
   "name": "python3"
  },
  "language_info": {
   "codemirror_mode": {
    "name": "ipython",
    "version": 3
   },
   "file_extension": ".py",
   "mimetype": "text/x-python",
   "name": "python",
   "nbconvert_exporter": "python",
   "pygments_lexer": "ipython3",
   "version": "3.10.9"
  }
 },
 "nbformat": 4,
 "nbformat_minor": 5
}
