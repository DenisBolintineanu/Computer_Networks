{
 "cells": [
  {
   "cell_type": "markdown",
   "id": "30ee79e2ba5caf58",
   "metadata": {},
   "source": [
    "![](Bildschirmfoto%202023-11-07%20um%2017.32.15.png)"
   ]
  },
  {
   "cell_type": "code",
   "execution_count": null,
   "id": "aab0b0788ea3d33c",
   "metadata": {
    "ExecuteTime": {
     "end_time": "2023-11-07T16:36:49.069741Z",
     "start_time": "2023-11-07T16:36:49.066531Z"
    }
   },
   "outputs": [],
   "source": []
  }
 ],
 "metadata": {
  "kernelspec": {
   "display_name": "Python 3 (ipykernel)",
   "language": "python",
   "name": "python3"
  },
  "language_info": {
   "codemirror_mode": {
    "name": "ipython",
    "version": 3
   },
   "file_extension": ".py",
   "mimetype": "text/x-python",
   "name": "python",
   "nbconvert_exporter": "python",
   "pygments_lexer": "ipython3",
   "version": "3.9.12"
  }
 },
 "nbformat": 4,
 "nbformat_minor": 5
}
