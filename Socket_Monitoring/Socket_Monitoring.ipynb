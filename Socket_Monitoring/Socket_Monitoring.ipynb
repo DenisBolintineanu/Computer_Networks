{
 "cells": [
  {
   "cell_type": "markdown",
   "source": [
    "netstat -an | grep -E 'tcp|udp' | wc -l"
   ],
   "metadata": {
    "collapsed": false
   },
   "id": "9ce649e08cf6893"
  },
  {
   "cell_type": "markdown",
   "source": [
    "136"
   ],
   "metadata": {
    "collapsed": false
   },
   "id": "11f2effbb406b307"
  },
  {
   "cell_type": "markdown",
   "source": [],
   "metadata": {
    "collapsed": false
   },
   "id": "b5e50593f9a3d6a"
  },
  {
   "cell_type": "markdown",
   "source": [
    "tcp4       0      0  172.20.152.38.56689    35.186.224.25.443      ESTABLISHED\n",
    "\n",
    "udp4       0      0  172.20.152.38.61584    35.186.224.25.443  \n",
    "\n",
    "Die Unterschiede zwischen TCP- und UDP-Sockets liegen vor allem in ihrem Verbindungsstatus. TCP ist ein verbindungsorientiertes Protokoll, was bedeutet, dass es einen festgelegten Verbindungsstatus zwischen zwei Endpunkten aufbaut und aufrechterhält, um eine zuverlässige Kommunikation zu gewährleisten. Im Gegensatz dazu ist UDP ein nachrichtenorientiertes Protokoll, das keine feste Verbindung zwischen den Endpunkten herstellt und daher keinen spezifischen Verbindungsstatus aufweist."
   ],
   "metadata": {
    "collapsed": false
   },
   "id": "d1b9cc3841d37780"
  },
  {
   "cell_type": "markdown",
   "source": [
    "In der Spalte \"State\" (Status) bei TCP Sockets in der Ausgabe von netstat werden verschiedene Zustände einer TCP-Verbindung dargestellt. Jeder Zustand gibt Auskunft über den aktuellen Status der TCP-Verbindung. "
   ],
   "metadata": {
    "collapsed": false
   },
   "id": "92033bc2ddf98a7f"
  },
  {
   "cell_type": "markdown",
   "source": [
    "netstat -an | grep -E 'LISTEN' | wc -l\n",
    "\n",
    "Antwort: 11"
   ],
   "metadata": {
    "collapsed": false
   },
   "id": "d8b558c6a17feda3"
  },
  {
   "cell_type": "markdown",
   "source": [
    "2 Sockets wurden geschlossen, und einer neu geöffnet."
   ],
   "metadata": {
    "collapsed": false
   },
   "id": "399a52eed2e51631"
  },
  {
   "cell_type": "markdown",
   "source": [
    "Die Adresse 127.0.0.1 steht für \"localhost\", also das eigene System."
   ],
   "metadata": {
    "collapsed": false
   },
   "id": "cdd3db232b78549b"
  },
  {
   "cell_type": "markdown",
   "source": [
    "Port 443 (TCP): Dieser Port wird häufig für HTTPS verwendet, das für sichere Webkommunikation steht. Zum Beispiel: 20.189.173.3.443 zeigt an, dass der Computer eine sichere Verbindung zu einem Server auf Port 443 hat.\n",
    "\n",
    "\n",
    "Port 80 (TCP): Port 80 wird für HTTP verwendet, das grundlegende Webkommunikation ohne Verschlüsselung ist. Zum Beispiel: 34.158.0.131.80 zeigt an, dass eine Verbindung zu einem Webserver auf Port 80 besteht.\n",
    "\n",
    "\n",
    "Port 993 (TCP): Port 993 wird für IMAPs verwendet, das für verschlüsselte E-Mail-Kommunikation steht. Zum Beispiel: 17.57.154.24.993 deutet auf eine gesicherte E-Mail-Kommunikation hin."
   ],
   "metadata": {
    "collapsed": false
   },
   "id": "1156aaab2dcefaf8"
  },
  {
   "cell_type": "markdown",
   "source": [
    "Der Server, der kontaktiert wird, hat die IP-Adresse 34.111.115.192\n",
    "\n",
    "Die Kommunikation findet über TCP statt. Darüber hinaus wird eine verschlüsselte Verbindung über TLS verwendet.\n",
    "\n",
    " Die Verbindung wird über Port 443 hergestellt, was standardmäßig für HTTPS-Verbindungen verwendet wird. Dies deutet darauf hin, dass die Kommunikation gesichert ist, was durch die Verwendung von TLS bestätigt wird."
   ],
   "metadata": {
    "collapsed": false
   },
   "id": "416a52716a7a8088"
  },
  {
   "cell_type": "markdown",
   "source": [
    "Basierend auf den Geolokalisierungsdaten befindet sich der in der ersten Wireshark-Aufgabe aufgerufene Webserver im Netzwerk von Google LLC, spezifisch in den Vereinigten Staaten, in der Stadt Kansas City (Missouri). "
   ],
   "metadata": {
    "collapsed": false
   },
   "id": "18d9ed46e8ddb09"
  },
  {
   "cell_type": "markdown",
   "source": [
    "role:           Hochschule Konstanz Technik, Wirtschaft und Gestaltung\n",
    "address:        Brauneggerstr. 55\n",
    "address:        78462 Konstanz, Germany\n",
    "admin-c:        MS3208-RIPE\n",
    "tech-c:         MS3208-RIPE\n",
    "nic-hdl:        HKTW1-RIPE\n",
    "abuse-mailbox:  abuse@htwg-konstanz.de\n",
    "mnt-by:         BELWUE-MNT\n",
    "created:        2015-06-17T14:46:25Z\n",
    "last-modified:  2015-06-18T11:34:36Z\n",
    "source:         RIPE # Filtered"
   ],
   "metadata": {
    "collapsed": false
   },
   "id": "4b87f76427354ec0"
  }
 ],
 "metadata": {
  "kernelspec": {
   "display_name": "Python 3",
   "language": "python",
   "name": "python3"
  },
  "language_info": {
   "codemirror_mode": {
    "name": "ipython",
    "version": 2
   },
   "file_extension": ".py",
   "mimetype": "text/x-python",
   "name": "python",
   "nbconvert_exporter": "python",
   "pygments_lexer": "ipython2",
   "version": "2.7.6"
  }
 },
 "nbformat": 4,
 "nbformat_minor": 5
}
