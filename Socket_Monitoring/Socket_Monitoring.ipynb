{
 "cells": [
  {
   "cell_type": "markdown",
   "source": [
    "netstat -an | grep -E 'tcp|udp' | wc -l"
   ],
   "metadata": {
    "collapsed": false
   },
   "id": "9ce649e08cf6893"
  },
  {
   "cell_type": "markdown",
   "source": [
    "136"
   ],
   "metadata": {
    "collapsed": false
   },
   "id": "11f2effbb406b307"
  },
  {
   "cell_type": "markdown",
   "source": [
    "tcp4       0      0  172.20.152.38.56689    35.186.224.25.443      ESTABLISHED\n",
    "\n",
    "udp4       0      0  172.20.152.38.61584    35.186.224.25.443  \n",
    "\n",
    "unterschied verbindungsstatus. weil tcp verbindungsorientiert ist und udp nachrichtenorientiert"
   ],
   "metadata": {
    "collapsed": false
   },
   "id": "d1b9cc3841d37780"
  },
  {
   "cell_type": "code",
   "execution_count": null,
   "outputs": [],
   "source": [],
   "metadata": {
    "collapsed": false
   },
   "id": "f89c46c31d518210"
  }
 ],
 "metadata": {
  "kernelspec": {
   "display_name": "Python 3",
   "language": "python",
   "name": "python3"
  },
  "language_info": {
   "codemirror_mode": {
    "name": "ipython",
    "version": 2
   },
   "file_extension": ".py",
   "mimetype": "text/x-python",
   "name": "python",
   "nbconvert_exporter": "python",
   "pygments_lexer": "ipython2",
   "version": "2.7.6"
  }
 },
 "nbformat": 4,
 "nbformat_minor": 5
}
