{
 "cells": [
  {
   "cell_type": "markdown",
   "id": "9ce649e08cf6893",
   "metadata": {
    "collapsed": false
   },
   "source": [
    "netstat -an | grep -E 'tcp|udp' | wc -l"
   ]
  },
  {
   "cell_type": "markdown",
   "id": "11f2effbb406b307",
   "metadata": {
    "collapsed": false
   },
   "source": [
    "136"
   ]
  },
  {
   "cell_type": "markdown",
   "id": "b5e50593f9a3d6a",
   "metadata": {
    "collapsed": false
   },
   "source": []
  },
  {
   "cell_type": "markdown",
   "id": "d1b9cc3841d37780",
   "metadata": {
    "collapsed": false
   },
   "source": [
    "tcp4       0      0  172.20.152.38.56689    35.186.224.25.443      ESTABLISHED\n",
    "\n",
    "udp4       0      0  172.20.152.38.61584    35.186.224.25.443  \n",
    "\n",
    "Die Unterschiede zwischen TCP- und UDP-Sockets liegen vor allem in ihrem Verbindungsstatus. TCP ist ein verbindungsorientiertes Protokoll, was bedeutet, dass es einen festgelegten Verbindungsstatus zwischen zwei Endpunkten aufbaut und aufrechterhält, um eine zuverlässige Kommunikation zu gewährleisten. Im Gegensatz dazu ist UDP ein nachrichtenorientiertes Protokoll, das keine feste Verbindung zwischen den Endpunkten herstellt und daher keinen spezifischen Verbindungsstatus aufweist."
   ]
  },
  {
   "cell_type": "markdown",
   "id": "92033bc2ddf98a7f",
   "metadata": {
    "collapsed": false
   },
   "source": [
    "In der Spalte \"State\" (Status) bei TCP Sockets in der Ausgabe von netstat werden verschiedene Zustände einer TCP-Verbindung dargestellt. Jeder Zustand gibt Auskunft über den aktuellen Status der TCP-Verbindung. "
   ]
  },
  {
   "cell_type": "markdown",
   "id": "d8b558c6a17feda3",
   "metadata": {
    "collapsed": false
   },
   "source": [
    "netstat -an | grep -E 'LISTEN' | wc -l\n",
    "\n",
    "Antwort: 11"
   ]
  },
  {
   "cell_type": "markdown",
   "id": "399a52eed2e51631",
   "metadata": {
    "collapsed": false
   },
   "source": [
    "2 Sockets wurden geschlossen, und einer neu geöffnet."
   ]
  },
  {
   "cell_type": "markdown",
   "id": "cdd3db232b78549b",
   "metadata": {
    "collapsed": false
   },
   "source": [
    "Die Adresse 127.0.0.1 steht für \"localhost\", also das eigene System."
   ]
  },
  {
   "cell_type": "markdown",
   "id": "1156aaab2dcefaf8",
   "metadata": {
    "collapsed": false
   },
   "source": [
    "Port 443 (TCP): Dieser Port wird häufig für HTTPS verwendet, das für sichere Webkommunikation steht. Zum Beispiel: 20.189.173.3.443 zeigt an, dass der Computer eine sichere Verbindung zu einem Server auf Port 443 hat.\n",
    "\n",
    "\n",
    "Port 80 (TCP): Port 80 wird für HTTP verwendet, das grundlegende Webkommunikation ohne Verschlüsselung ist. Zum Beispiel: 34.158.0.131.80 zeigt an, dass eine Verbindung zu einem Webserver auf Port 80 besteht.\n",
    "\n",
    "\n",
    "Port 993 (TCP): Port 993 wird für IMAPs verwendet, das für verschlüsselte E-Mail-Kommunikation steht. Zum Beispiel: 17.57.154.24.993 deutet auf eine gesicherte E-Mail-Kommunikation hin."
   ]
  },
  {
   "cell_type": "markdown",
   "id": "416a52716a7a8088",
   "metadata": {
    "collapsed": false
   },
   "source": [
    "Der Server, der kontaktiert wird, hat die IP-Adresse 34.111.115.192\n",
    "\n",
    "Die Kommunikation findet über TCP statt. Darüber hinaus wird eine verschlüsselte Verbindung über TLS verwendet.\n",
    "\n",
    " Die Verbindung wird über Port 443 hergestellt, was standardmäßig für HTTPS-Verbindungen verwendet wird. Dies deutet darauf hin, dass die Kommunikation gesichert ist, was durch die Verwendung von TLS bestätigt wird."
   ]
  },
  {
   "cell_type": "markdown",
   "id": "18d9ed46e8ddb09",
   "metadata": {
    "collapsed": false
   },
   "source": [
    "Basierend auf den Geolokalisierungsdaten befindet sich der in der ersten Wireshark-Aufgabe aufgerufene Webserver im Netzwerk von Google LLC, spezifisch in den Vereinigten Staaten, in der Stadt Kansas City (Missouri). "
   ]
  },
  {
   "cell_type": "markdown",
   "id": "4b87f76427354ec0",
   "metadata": {
    "collapsed": false
   },
   "source": [
    "role:           Hochschule Konstanz Technik, Wirtschaft und Gestaltung\n",
    "address:        Brauneggerstr. 55\n",
    "address:        78462 Konstanz, Germany\n",
    "admin-c:        MS3208-RIPE\n",
    "tech-c:         MS3208-RIPE\n",
    "nic-hdl:        HKTW1-RIPE\n",
    "abuse-mailbox:  abuse@htwg-konstanz.de\n",
    "mnt-by:         BELWUE-MNT\n",
    "created:        2015-06-17T14:46:25Z\n",
    "last-modified:  2015-06-18T11:34:36Z\n",
    "source:         RIPE # Filtered"
   ]
  },
  {
   "cell_type": "markdown",
   "metadata": {},
   "source": [
    "<H3> 4. Sockets beim Laden einer Website <H3>"
   ]
  },
  {
   "cell_type": "markdown",
   "metadata": {},
   "source": [
    "1)  Bestimmen Sie die Anzahl Sockets, die geöffnet werden, wenn Sie www.spiegel.de herunterladen."
   ]
  },
  {
   "cell_type": "markdown",
   "metadata": {},
   "source": [
    "Es werden 26 Sockets geöffnet:\n",
    "\n",
    "\n",
    "chrome.exe\t5060\tTCP\t55787\t\t192.168.178.21\t443\thttps\t52.46.143.56\t\tEstablished\t\t\t\t\tC:\\Program Files\\Google\\Chrome\\Application\\chrome.exe\tGoogle Chrome\tGoogle Chrome\t119.0.6045.200\tGoogle LLC\t05.12.2023 01:01:44\tDESKTOP-66VM4R8\\Robin\t\tA\t05.12.2023 01:02:58\t05.12.2023 01:02:56\t\t\t\t\t\t\n",
    "chrome.exe\t5060\tTCP\t55794\t\t192.168.178.21\t443\thttps\t2.16.238.22\ta2-16-238-22.deploy.static.akamaitechnologies.com\tEstablished\t\t\t\t\tC:\\Program Files\\Google\\Chrome\\Application\\chrome.exe\tGoogle Chrome\tGoogle Chrome\t119.0.6045.200\tGoogle LLC\t05.12.2023 01:01:44\tDESKTOP-66VM4R8\\Robin\t\tA\t05.12.2023 01:02:58\t05.12.2023 01:02:57\t\t\t\t\t\t\n",
    "chrome.exe\t5060\tTCP\t55795\t\t192.168.178.21\t443\thttps\t95.101.149.233\ta95-101-149-233.deploy.static.akamaitechnologies.com\tEstablished\t\t\t\t\tC:\\Program Files\\Google\\Chrome\\Application\\chrome.exe\tGoogle Chrome\tGoogle Chrome\t119.0.6045.200\tGoogle LLC\t05.12.2023 01:01:44\tDESKTOP-66VM4R8\\Robin\t\tA\t05.12.2023 01:02:58\t05.12.2023 01:02:57\t\t\t\t\t\t\n",
    "chrome.exe\t5060\tTCP\t55835\t\t192.168.178.21\t443\thttps\t23.32.185.192\ta23-32-185-192.deploy.static.akamaitechnologies.com\tEstablished\t\t\t\t\tC:\\Program Files\\Google\\Chrome\\Application\\chrome.exe\tGoogle Chrome\tGoogle Chrome\t119.0.6045.200\tGoogle LLC\t05.12.2023 01:01:44\tDESKTOP-66VM4R8\\Robin\t\tA\t05.12.2023 01:03:02\t05.12.2023 01:03:00\t\t\t\t\t\t\n",
    "chrome.exe\t5060\tTCP\t55837\t\t192.168.178.21\t443\thttps\t217.79.178.221\tcm49.as.net\tClose Wait\t\t\t\t\tC:\\Program Files\\Google\\Chrome\\Application\\chrome.exe\tGoogle Chrome\tGoogle Chrome\t119.0.6045.200\tGoogle LLC\t05.12.2023 01:01:44\tDESKTOP-66VM4R8\\Robin\t\tA\t05.12.2023 01:03:02\t05.12.2023 01:03:01\t\t\t\t\t\t\n",
    "chrome.exe\t5060\tTCP\t55850\t\t192.168.178.21\t443\thttps\t193.0.160.130\t\tEstablished\t\t\t\t\tC:\\Program Files\\Google\\Chrome\\Application\\chrome.exe\tGoogle Chrome\tGoogle Chrome\t119.0.6045.200\tGoogle LLC\t05.12.2023 01:01:44\tDESKTOP-66VM4R8\\Robin\t\tA\t05.12.2023 01:03:02\t05.12.2023 01:03:01\t\t\t\t\t\t\n",
    "chrome.exe\t5060\tTCP\t55852\t\t192.168.178.21\t443\thttps\t23.32.185.192\ta23-32-185-192.deploy.static.akamaitechnologies.com\tEstablished\t\t\t\t\tC:\\Program Files\\Google\\Chrome\\Application\\chrome.exe\tGoogle Chrome\tGoogle Chrome\t119.0.6045.200\tGoogle LLC\t05.12.2023 01:01:44\tDESKTOP-66VM4R8\\Robin\t\tA\t05.12.2023 01:03:02\t05.12.2023 01:03:01\t\t\t\t\t\t\n",
    "chrome.exe\t5060\tTCP\t55853\t\t192.168.178.21\t443\thttps\t198.47.127.18\t\tEstablished\t\t\t\t\tC:\\Program Files\\Google\\Chrome\\Application\\chrome.exe\tGoogle Chrome\tGoogle Chrome\t119.0.6045.200\tGoogle LLC\t05.12.2023 01:01:44\tDESKTOP-66VM4R8\\Robin\t\tA\t05.12.2023 01:03:02\t05.12.2023 01:03:01\t\t\t\t\t\t\n",
    "chrome.exe\t5060\tTCP\t55855\t\t192.168.178.21\t443\thttps\t89.207.16.137\tams03-nessy-float1.dotomi.com\tEstablished\t\t\t\t\tC:\\Program Files\\Google\\Chrome\\Application\\chrome.exe\tGoogle Chrome\tGoogle Chrome\t119.0.6045.200\tGoogle LLC\t05.12.2023 01:01:44\tDESKTOP-66VM4R8\\Robin\t\tA\t05.12.2023 01:03:02\t05.12.2023 01:03:01\t\t\t\t\t\t\n",
    "chrome.exe\t5060\tTCP\t55856\t\t192.168.178.21\t443\thttps\t23.32.185.192\ta23-32-185-192.deploy.static.akamaitechnologies.com\tEstablished\t\t\t\t\tC:\\Program Files\\Google\\Chrome\\Application\\chrome.exe\tGoogle Chrome\tGoogle Chrome\t119.0.6045.200\tGoogle LLC\t05.12.2023 01:01:44\tDESKTOP-66VM4R8\\Robin\t\tA\t05.12.2023 01:03:02\t05.12.2023 01:03:01\t\t\t\t\t\t\n",
    "chrome.exe\t5060\tTCP\t55866\t\t192.168.178.21\t443\thttps\t23.32.185.192\ta23-32-185-192.deploy.static.akamaitechnologies.com\tEstablished\t\t\t\t\tC:\\Program Files\\Google\\Chrome\\Application\\chrome.exe\tGoogle Chrome\tGoogle Chrome\t119.0.6045.200\tGoogle LLC\t05.12.2023 01:01:44\tDESKTOP-66VM4R8\\Robin\t\tA\t05.12.2023 01:03:02\t05.12.2023 01:03:02\t\t\t\t\t\t\n",
    "chrome.exe\t5060\tTCP\t55868\t\t192.168.178.21\t443\thttps\t34.111.55.240\t240.55.111.34.bc.googleusercontent.com\tEstablished\t\t\t\t\tC:\\Program Files\\Google\\Chrome\\Application\\chrome.exe\tGoogle Chrome\tGoogle Chrome\t119.0.6045.200\tGoogle LLC\t05.12.2023 01:01:44\tDESKTOP-66VM4R8\\Robin\t\tA\t05.12.2023 01:03:02\t05.12.2023 01:03:02\t\t\t\t\t\t\n",
    "chrome.exe\t5060\tTCP\t55869\t\t192.168.178.21\t443\thttps\t23.32.185.192\ta23-32-185-192.deploy.static.akamaitechnologies.com\tEstablished\t\t\t\t\tC:\\Program Files\\Google\\Chrome\\Application\\chrome.exe\tGoogle Chrome\tGoogle Chrome\t119.0.6045.200\tGoogle LLC\t05.12.2023 01:01:44\tDESKTOP-66VM4R8\\Robin\t\tA\t05.12.2023 01:03:02\t05.12.2023 01:03:02\t\t\t\t\t\t\n",
    "chrome.exe\t5060\tTCP\t55870\t\t192.168.178.21\t443\thttps\t35.190.80.1\t1.80.190.35.bc.googleusercontent.com\tEstablished\t\t\t\t\tC:\\Program Files\\Google\\Chrome\\Application\\chrome.exe\tGoogle Chrome\tGoogle Chrome\t119.0.6045.200\tGoogle LLC\t05.12.2023 01:01:44\tDESKTOP-66VM4R8\\Robin\t\tA\t05.12.2023 01:03:02\t05.12.2023 01:03:02\t\t\t\t\t\t\n",
    "chrome.exe\t5060\tTCP\t55871\t\t192.168.178.21\t443\thttps\t142.251.143.67\tber01s04-in-f3.1e100.net\tEstablished\t\t\t\t\tC:\\Program Files\\Google\\Chrome\\Application\\chrome.exe\tGoogle Chrome\tGoogle Chrome\t119.0.6045.200\tGoogle LLC\t05.12.2023 01:01:44\tDESKTOP-66VM4R8\\Robin\t\tA\t05.12.2023 01:03:04\t05.12.2023 01:03:02\t\t\t\t\t\t\n",
    "chrome.exe\t5060\tTCP\t55873\t\t192.168.178.21\t443\thttps\t23.32.185.192\ta23-32-185-192.deploy.static.akamaitechnologies.com\tEstablished\t\t\t\t\tC:\\Program Files\\Google\\Chrome\\Application\\chrome.exe\tGoogle Chrome\tGoogle Chrome\t119.0.6045.200\tGoogle LLC\t05.12.2023 01:01:44\tDESKTOP-66VM4R8\\Robin\t\tA\t05.12.2023 01:03:04\t05.12.2023 01:03:02\t\t\t\t\t\t\n",
    "chrome.exe\t5060\tTCP\t55888\t\t192.168.178.21\t443\thttps\t142.250.180.99\tmil04s42-in-f3.1e100.net\tEstablished\t\t\t\t\tC:\\Program Files\\Google\\Chrome\\Application\\chrome.exe\tGoogle Chrome\tGoogle Chrome\t119.0.6045.200\tGoogle LLC\t05.12.2023 01:01:44\tDESKTOP-66VM4R8\\Robin\t\tA\t05.12.2023 01:03:04\t05.12.2023 01:03:03\t\t\t\t\t\t\n",
    "chrome.exe\t5060\tTCP\t55891\t\t192.168.178.21\t443\thttps\t82.145.213.8\tn-sysadmin-jumpbox-03.feednews.opera.technology\tEstablished\t\t\t\t\tC:\\Program Files\\Google\\Chrome\\Application\\chrome.exe\tGoogle Chrome\tGoogle Chrome\t119.0.6045.200\tGoogle LLC\t05.12.2023 01:01:44\tDESKTOP-66VM4R8\\Robin\t\tA\t05.12.2023 01:03:04\t05.12.2023 01:03:03\t\t\t\t\t\t\n",
    "chrome.exe\t5060\tTCP\t55892\t\t192.168.178.21\t443\thttps\t35.244.159.8\t8.159.244.35.bc.googleusercontent.com\tEstablished\t\t\t\t\tC:\\Program Files\\Google\\Chrome\\Application\\chrome.exe\tGoogle Chrome\tGoogle Chrome\t119.0.6045.200\tGoogle LLC\t05.12.2023 01:01:44\tDESKTOP-66VM4R8\\Robin\t\tA\t05.12.2023 01:03:04\t05.12.2023 01:03:04\t\t\t\t\t\t\n",
    "chrome.exe\t5060\tTCP\t55904\t\t192.168.178.21\t443\thttps\t35.244.159.8\t8.159.244.35.bc.googleusercontent.com\tEstablished\t\t\t\t\tC:\\Program Files\\Google\\Chrome\\Application\\chrome.exe\tGoogle Chrome\tGoogle Chrome\t119.0.6045.200\tGoogle LLC\t05.12.2023 01:01:44\tDESKTOP-66VM4R8\\Robin\t\tA\t05.12.2023 01:03:04\t05.12.2023 01:03:04\t\t\t\t\t\t\n",
    "chrome.exe\t5060\tTCP\t55915\t\t192.168.178.21\t443\thttps\t37.157.6.237\t\tEstablished\t\t\t\t\tC:\\Program Files\\Google\\Chrome\\Application\\chrome.exe\tGoogle Chrome\tGoogle Chrome\t119.0.6045.200\tGoogle LLC\t05.12.2023 01:01:44\tDESKTOP-66VM4R8\\Robin\t\tA\t05.12.2023 01:03:06\t05.12.2023 01:03:05\t\t\t\t\t\t\n",
    "chrome.exe\t5060\tTCP\t55932\t\t192.168.178.21\t443\thttps\t52.29.230.13\tec2-52-29-230-13.eu-central-1.compute.amazonaws.com\tEstablished\t\t\t\t\tC:\\Program Files\\Google\\Chrome\\Application\\chrome.exe\tGoogle Chrome\tGoogle Chrome\t119.0.6045.200\tGoogle LLC\t05.12.2023 01:01:44\tDESKTOP-66VM4R8\\Robin\t\tA\t05.12.2023 01:03:08\t05.12.2023 01:03:06\t\t\t\t\t\t\n",
    "chrome.exe\t5060\tTCP\t55933\t\t192.168.178.21\t443\thttps\t34.98.64.218\t218.64.98.34.bc.googleusercontent.com\tEstablished\t\t\t\t\tC:\\Program Files\\Google\\Chrome\\Application\\chrome.exe\tGoogle Chrome\tGoogle Chrome\t119.0.6045.200\tGoogle LLC\t05.12.2023 01:01:44\tDESKTOP-66VM4R8\\Robin\t\tA\t05.12.2023 01:03:08\t05.12.2023 01:03:06\t\t\t\t\t\t\n",
    "chrome.exe\t5060\tTCP\t55947\t\t192.168.178.21\t443\thttps\t34.98.64.218\t218.64.98.34.bc.googleusercontent.com\tEstablished\t\t\t\t\tC:\\Program Files\\Google\\Chrome\\Application\\chrome.exe\tGoogle Chrome\tGoogle Chrome\t119.0.6045.200\tGoogle LLC\t05.12.2023 01:01:44\tDESKTOP-66VM4R8\\Robin\t\tA\t05.12.2023 01:03:08\t05.12.2023 01:03:07\t\t\t\t\t\t\n",
    "chrome.exe\t5060\tTCP\t55948\t\t192.168.178.21\t443\thttps\t23.32.185.35\ta23-32-185-35.deploy.static.akamaitechnologies.com\tEstablished\t\t\t\t\tC:\\Program Files\\Google\\Chrome\\Application\\chrome.exe\tGoogle Chrome\tGoogle Chrome\t119.0.6045.200\tGoogle LLC\t05.12.2023 01:01:44\tDESKTOP-66VM4R8\\Robin\t\tA\t05.12.2023 01:03:08\t05.12.2023 01:03:07\t\t\t\t\t\t\n",
    "chrome.exe\t5060\tTCP\t55950\t\t192.168.178.21\t443\thttps\t35.244.159.8\t8.159.244.35.bc.googleusercontent.com\tEstablished\t\t\t\t\tC:\\Program Files\\Google\\Chrome\\Application\\chrome.exe\tGoogle Chrome\tGoogle Chrome\t119.0.6045.200\tGoogle LLC\t05.12.2023 01:01:44\tDESKTOP-66VM4R8\\Robin\t\tA\t05.12.2023 01:03:08\t05.12.2023 01:03:07\t\t\t\t\t\t\n",
    "chrome.exe\t5060\tTCP\t55964\t\t192.168.178.21\t443\thttps\t193.0.160.130\t\tEstablished\t\t\t\t\tC:\\Program Files\\Google\\Chrome\\Application\\chrome.exe\tGoogle Chrome\tGoogle Chrome\t119.0.6045.200\tGoogle LLC\t05.12.2023 01:01:44\tDESKTOP-66VM4R8\\Robin\t\tA\t05.12.2023 01:03:08\t05.12.2023 01:03:08\t\t\t\t\t\t\n",
    "chrome.exe\t5060\tTCP\t55965\t\t192.168.178.21\t443\thttps\t104.18.36.155\t\tEstablished\t\t\t\t\tC:\\Program Files\\Google\\Chrome\\Application\\chrome.exe\tGoogle Chrome\tGoogle Chrome\t119.0.6045.200\tGoogle LLC\t05.12.2023 01:01:44\tDESKTOP-66VM4R8\\Robin\t\tA\t05.12.2023 01:03:08\t05.12.2023 01:03:08\t\t\t\t\t\t\n",
    "chrome.exe\t5060\tTCP\t55968\t\t192.168.178.21\t443\thttps\t35.244.159.8\t8.159.244.35.bc.googleusercontent.com\tEstablished\t\t\t\t\tC:\\Program Files\\Google\\Chrome\\Application\\chrome.exe\tGoogle Chrome\tGoogle Chrome\t119.0.6045.200\tGoogle LLC\t05.12.2023 01:01:44\tDESKTOP-66VM4R8\\Robin\t\tA\t05.12.2023 01:03:10\t05.12.2023 01:03:09\t\t\t\t\t\t\n",
    "chrome.exe\t5060\tTCP\t55980\t\t192.168.178.21\t443\thttps\t34.98.64.218\t218.64.98.34.bc.googleusercontent.com\tEstablished\t\t\t\t\tC:\\Program Files\\Google\\Chrome\\Application\\chrome.exe\tGoogle Chrome\tGoogle Chrome\t119.0.6045.200\tGoogle LLC\t05.12.2023 01:01:44\tDESKTOP-66VM4R8\\Robin\t\tA\t05.12.2023 01:03:10\t05.12.2023 01:03:09\t\t\t\t\t\t\n",
    "chrome.exe\t5060\tTCP\t55981\t\t192.168.178.21\t443\thttps\t35.186.201.99\t99.201.186.35.bc.googleusercontent.com\tEstablished\t\t\t\t\tC:\\Program Files\\Google\\Chrome\\Application\\chrome.exe\tGoogle Chrome\tGoogle Chrome\t119.0.6045.200\tGoogle LLC\t05.12.2023 01:01:44\tDESKTOP-66VM4R8\\Robin\t\tA\t05.12.2023 01:03:10\t05.12.2023 01:03:09\t\t\t\t\t\t\n",
    "chrome.exe\t5060\tTCP\t55982\t\t192.168.178.21\t443\thttps\t34.98.64.218\t218.64.98.34.bc.googleusercontent.com\tEstablished\t\t\t\t\tC:\\Program Files\\Google\\Chrome\\Application\\chrome.exe\tGoogle Chrome\tGoogle Chrome\t119.0.6045.200\tGoogle LLC\t05.12.2023 01:01:44\tDESKTOP-66VM4R8\\Robin\t\tA\t05.12.2023 01:03:10\t05.12.2023 01:03:09\t\t\t\t\t\t\n",
    "chrome.exe\t5060\tTCP\t55992\t\t192.168.178.21\t443\thttps\t35.244.159.8\t8.159.244.35.bc.googleusercontent.com\tEstablished\t\t\t\t\tC:\\Program Files\\Google\\Chrome\\Application\\chrome.exe\tGoogle Chrome\tGoogle Chrome\t119.0.6045.200\tGoogle LLC\t05.12.2023 01:01:44\tDESKTOP-66VM4R8\\Robin\t\tA\t05.12.2023 01:03:10\t05.12.2023 01:03:10\t\t\t\t\t\t\n",
    "chrome.exe\t5060\tTCP\t55994\t\t192.168.178.21\t443\thttps\t54.78.254.47\t\tEstablished\t\t\t\t\tC:\\Program Files\\Google\\Chrome\\Application\\chrome.exe\tGoogle Chrome\tGoogle Chrome\t119.0.6045.200\tGoogle LLC\t05.12.2023 01:01:44\tDESKTOP-66VM4R8\\Robin\t\tA\t05.12.2023 01:03:12\t05.12.2023 01:03:10\t\t\t\t\t\t\n",
    "chrome.exe\t5060\tTCP\t56002\t\t192.168.178.21\t443\thttps\t34.246.142.171\tec2-34-246-142-171.eu-west-1.compute.amazonaws.com\tEstablished\t\t\t\t\tC:\\Program Files\\Google\\Chrome\\Application\\chrome.exe\tGoogle Chrome\tGoogle Chrome\t119.0.6045.200\tGoogle LLC\t05.12.2023 01:01:44\tDESKTOP-66VM4R8\\Robin\t\tA\t05.12.2023 01:03:12\t05.12.2023 01:03:11\t\t\t\t\t\t\n",
    "chrome.exe\t5060\tTCP\t56051\t\t192.168.178.21\t443\thttps\t2.21.21.34\ta2-21-21-34.deploy.static.akamaitechnologies.com\tEstablished\t\t\t\t\tC:\\Program Files\\Google\\Chrome\\Application\\chrome.exe\tGoogle Chrome\tGoogle Chrome\t119.0.6045.200\tGoogle LLC\t05.12.2023 01:01:44\tDESKTOP-66VM4R8\\Robin\t\tA\t05.12.2023 01:03:16\t05.12.2023 01:03:15\t\t\t\t\t\t\n",
    "chrome.exe\t5060\tTCP\t56052\t\t192.168.178.21\t443\thttps\t3.78.143.146\tec2-3-78-143-146.eu-central-1.compute.amazonaws.com\tEstablished\t\t\t\t\tC:\\Program Files\\Google\\Chrome\\Application\\chrome.exe\tGoogle Chrome\tGoogle Chrome\t119.0.6045.200\tGoogle LLC\t05.12.2023 01:01:44\tDESKTOP-66VM4R8\\Robin\t\tA\t05.12.2023 01:03:16\t05.12.2023 01:03:16\t\t\t\t\t\t\n",
    "chrome.exe\t5060\tTCP\t56099\t\t192.168.178.21\t443\thttps\t99.80.32.116\tec2-99-80-32-116.eu-west-1.compute.amazonaws.com\tEstablished\t\t\t\t\tC:\\Program Files\\Google\\Chrome\\Application\\chrome.exe\tGoogle Chrome\tGoogle Chrome\t119.0.6045.200\tGoogle LLC\t05.12.2023 01:01:44\tDESKTOP-66VM4R8\\Robin\t\tA\t05.12.2023 01:03:20\t05.12.2023 01:03:19\t\t\t\t\t\t\n",
    "chrome.exe\t5060\tTCP\t56100\t\t192.168.178.21\t443\thttps\t34.246.142.171\tec2-34-246-142-171.eu-west-1.compute.amazonaws.com\tEstablished\t\t\t\t\tC:\\Program Files\\Google\\Chrome\\Application\\chrome.exe\tGoogle Chrome\tGoogle Chrome\t119.0.6045.200\tGoogle LLC\t05.12.2023 01:01:44\tDESKTOP-66VM4R8\\Robin\t\tA\t05.12.2023 01:03:20\t05.12.2023 01:03:20\t\t\t\t\t\t\n",
    "chrome.exe\t5060\tTCP\t56172\t\t192.168.178.21\t443\thttps\t204.79.197.200\ta-0001.a-msedge.net\tEstablished\t\t\t\t\tC:\\Program Files\\Google\\Chrome\\Application\\chrome.exe\tGoogle Chrome\tGoogle Chrome\t119.0.6045.200\tGoogle LLC\t05.12.2023 01:01:44\tDESKTOP-66VM4R8\\Robin\t\tA\t05.12.2023 01:03:28\t05.12.2023 01:03:28\t\t\t\t\t\t\n",
    "chrome.exe\t5060\tTCP\t56174\t\t192.168.178.21\t443\thttps\t104.244.42.5\t\tEstablished\t\t\t\t\tC:\\Program Files\\Google\\Chrome\\Application\\chrome.exe\tGoogle Chrome\tGoogle Chrome\t119.0.6045.200\tGoogle LLC\t05.12.2023 01:01:44\tDESKTOP-66VM4R8\\Robin\t\tA\t05.12.2023 01:03:30\t05.12.2023 01:03:28\t\t\t\t\t\t\n",
    "chrome.exe\t5060\tTCP\t56176\t\t192.168.178.21\t443\thttps\t104.244.42.131\t\tEstablished\t\t\t\t\tC:\\Program Files\\Google\\Chrome\\Application\\chrome.exe\tGoogle Chrome\tGoogle Chrome\t119.0.6045.200\tGoogle LLC\t05.12.2023 01:01:44\tDESKTOP-66VM4R8\\Robin\t\tA\t05.12.2023 01:03:30\t05.12.2023 01:03:29\t\t\t\t\t\t\n",
    "chrome.exe\t5060\tTCP\t56190\t\t192.168.178.21\t443\thttps\t192.178.52.163\ttzqroa-ab-in-f3.1e100.net\tEstablished\t\t\t\t\tC:\\Program Files\\Google\\Chrome\\Application\\chrome.exe\tGoogle Chrome\tGoogle Chrome\t119.0.6045.200\tGoogle LLC\t05.12.2023 01:01:44\tDESKTOP-66VM4R8\\Robin\t\tA\t05.12.2023 01:03:30\t05.12.2023 01:03:30\t\t\t\t\t\t\n",
    "chrome.exe\t5060\tTCP\t56203\t\t192.168.178.21\t443\thttps\t130.211.44.5\t5.44.211.130.bc.googleusercontent.com\tLast Ack\t\t\t\t\tC:\\Program Files\\Google\\Chrome\\Application\\chrome.exe\tGoogle Chrome\tGoogle Chrome\t119.0.6045.200\tGoogle LLC\t05.12.2023 01:01:44\tDESKTOP-66VM4R8\\Robin\t\tA\t05.12.2023 01:03:32\t05.12.2023 01:03:31\t\t\t\t\t\t\n",
    "chrome.exe\t5060\tTCP\t56204\t\t192.168.178.21\t443\thttps\t156.146.33.137\t494557430.fra.cdn77.com\tEstablished\t\t\t\t\tC:\\Program Files\\Google\\Chrome\\Application\\chrome.exe\tGoogle Chrome\tGoogle Chrome\t119.0.6045.200\tGoogle LLC\t05.12.2023 01:01:44\tDESKTOP-66VM4R8\\Robin\t\tA\t05.12.2023 01:03:32\t05.12.2023 01:03:31\t\t\t\t\t\t\n",
    "\t\t\t\n"
   ]
  },
  {
   "cell_type": "markdown",
   "metadata": {},
   "source": [
    "2)  Was ist die maximale Anzahl von Sockets pro Remote-IP-Adresse?\n"
   ]
  },
  {
   "cell_type": "markdown",
   "metadata": {},
   "source": [
    "3)  Welche Remote-Ports werden verwendet?\n"
   ]
  },
  {
   "cell_type": "markdown",
   "metadata": {},
   "source": [
    "Es wird https (443) verwendet"
   ]
  },
  {
   "cell_type": "markdown",
   "metadata": {},
   "source": [
    "4) Wie viele verschiedenen Firmen können Sie die Remote-Hosts zuordnen (am Besten über Contact \n",
    "Name in IPNetInfo)?\n",
    "\n"
   ]
  },
  {
   "cell_type": "markdown",
   "metadata": {},
   "source": [
    "- A 100 ROW Gmbh\n",
    "- Akamai Technologies, Inc.\n",
    "- Amazon Data Services Ireland Limited\n",
    "- Amazon Technologies, Inc.s\n",
    "- Brian Peralsky\n",
    "- Cloudflare, Inc.\n",
    "- CNVR Network Operations\n",
    "- Datacamp Ltd. technical staff\n",
    "- Google LLC\n",
    "- Microsoft Corporation\n",
    "- myLoc NOC\n",
    "- Network Archietecture Role Account \n",
    "- Opera Software AS Netops\n",
    "- PubMatic, Inc.\n",
    "- Twitter Inc.\n",
    "- Zilvinas Karpavicaks\n",
    "\n",
    "16 verschiedene"
   ]
  },
  {
   "cell_type": "markdown",
   "metadata": {},
   "source": [
    "5) Laden Sie eine andere populäre Web-Seite und vergleichen Sie die Liste der kontaktierten Firmen. \n",
    "\n",
    "Reddit.com: <br>\n",
    "13 geöffnete Sockets.<br>\n",
    "2 Verschiedene kontaktierte Firmen \n",
    "- Google LLC\n",
    "- Fastly RIR Administrator\n",
    "\n",
    "\n",
    "chrome.exe\t17596\tUDP\t55786\t\t0.0.0.0\t\t\t\t\t\t\t\t\t\tC:\\Program Files\\Google\\Chrome\\Application\\chrome.exe\tGoogle Chrome\tGoogle Chrome\t119.0.6045.200\tGoogle LLC\t05.12.2023 01:12:20\tDESKTOP-66VM4R8\\Robin\t\tA\t05.12.2023 01:13:29\t05.12.2023 01:13:28\t\t\t\t\t\t\n",
    "chrome.exe\t17596\tTCP\t56979\t\t192.168.178.21\t443\thttps\t142.251.143.67\tber01s04-in-f3.1e100.net\tEstablished\t\t\t\t\tC:\\Program Files\\Google\\Chrome\\Application\\chrome.exe\tGoogle Chrome\tGoogle Chrome\t119.0.6045.200\tGoogle LLC\t05.12.2023 01:12:20\tDESKTOP-66VM4R8\\Robin\t\tA\t05.12.2023 01:13:25\t05.12.2023 01:13:24\t\t\t\t\t\t\n",
    "chrome.exe\t17596\tUDP\t56463\t\t0.0.0.0\t\t\t\t\t\t\t\t\t\tC:\\Program Files\\Google\\Chrome\\Application\\chrome.exe\tGoogle Chrome\tGoogle Chrome\t119.0.6045.200\tGoogle LLC\t05.12.2023 01:12:20\tDESKTOP-66VM4R8\\Robin\t\tA\t05.12.2023 01:13:25\t05.12.2023 01:13:24\t\t\t\t\t\t\n",
    "chrome.exe\t17596\tUDP\t57539\t\t0.0.0.0\t\t\t\t\t\t\t\t\t\tC:\\Program Files\\Google\\Chrome\\Application\\chrome.exe\tGoogle Chrome\tGoogle Chrome\t119.0.6045.200\tGoogle LLC\t05.12.2023 01:12:20\tDESKTOP-66VM4R8\\Robin\t\tA\t05.12.2023 01:13:25\t05.12.2023 01:13:23\t\t\t\t\t\t\n",
    "chrome.exe\t17596\tTCP\t56967\t\t192.168.178.21\t443\thttps\t142.250.186.46\t\tEstablished\t\t\t\t\tC:\\Program Files\\Google\\Chrome\\Application\\chrome.exe\tGoogle Chrome\tGoogle Chrome\t119.0.6045.200\tGoogle LLC\t05.12.2023 01:12:20\tDESKTOP-66VM4R8\\Robin\t\tA\t05.12.2023 01:13:23\t05.12.2023 01:13:23\t\t\t\t\t\t\n",
    "chrome.exe\t17596\tTCP\t56942\t\t192.168.178.21\t443\thttps\t142.250.186.131\tfra24s07-in-f3.1e100.net\tEstablished\t\t\t\t\tC:\\Program Files\\Google\\Chrome\\Application\\chrome.exe\tGoogle Chrome\tGoogle Chrome\t119.0.6045.200\tGoogle LLC\t05.12.2023 01:12:20\tDESKTOP-66VM4R8\\Robin\t\tA\t05.12.2023 01:13:21\t05.12.2023 01:13:20\t\t\t\t\t\t\n",
    "chrome.exe\t17596\tTCP\t56940\t\t192.168.178.21\t443\thttps\t142.250.185.99\t\tEstablished\t\t\t\t\tC:\\Program Files\\Google\\Chrome\\Application\\chrome.exe\tGoogle Chrome\tGoogle Chrome\t119.0.6045.200\tGoogle LLC\t05.12.2023 01:12:20\tDESKTOP-66VM4R8\\Robin\t\tA\t05.12.2023 01:13:21\t05.12.2023 01:13:20\t\t\t\t\t\t\n",
    "chrome.exe\t17596\tUDP\t51104\t\t0.0.0.0\t\t\t\t\t\t\t\t\t\tC:\\Program Files\\Google\\Chrome\\Application\\chrome.exe\tGoogle Chrome\tGoogle Chrome\t119.0.6045.200\tGoogle LLC\t05.12.2023 01:12:20\tDESKTOP-66VM4R8\\Robin\t\tA\t05.12.2023 01:13:21\t05.12.2023 01:13:20\t\t\t\t\t\t\n",
    "chrome.exe\t17596\tTCP\t56881\t\t192.168.178.21\t443\thttps\t146.75.117.140\t\tEstablished\t\t\t\t\tC:\\Program Files\\Google\\Chrome\\Application\\chrome.exe\tGoogle Chrome\tGoogle Chrome\t119.0.6045.200\tGoogle LLC\t05.12.2023 01:12:20\tDESKTOP-66VM4R8\\Robin\t\tA\t05.12.2023 01:13:17\t05.12.2023 01:13:15\t\t\t\t\t\t\n",
    "chrome.exe\t17596\tTCP\t56844\t\t192.168.178.21\t443\thttps\t146.75.117.140\t\tEstablished\t\t\t\t\tC:\\Program Files\\Google\\Chrome\\Application\\chrome.exe\tGoogle Chrome\tGoogle Chrome\t119.0.6045.200\tGoogle LLC\t05.12.2023 01:12:20\tDESKTOP-66VM4R8\\Robin\t\tA\t05.12.2023 01:13:13\t05.12.2023 01:13:12\t\t\t\t\t\t\n",
    "chrome.exe\t17596\tTCP\t56843\t\t192.168.178.21\t443\thttps\t146.75.117.140\t\tEstablished\t\t\t\t\tC:\\Program Files\\Google\\Chrome\\Application\\chrome.exe\tGoogle Chrome\tGoogle Chrome\t119.0.6045.200\tGoogle LLC\t05.12.2023 01:12:20\tDESKTOP-66VM4R8\\Robin\t\tA\t05.12.2023 01:13:13\t05.12.2023 01:13:12\t\t\t\t\t\t\n",
    "chrome.exe\t17596\tTCP\t56789\t\t192.168.178.21\t443\thttps\t146.75.117.140\t\tEstablished\t\t\t\t\tC:\\Program Files\\Google\\Chrome\\Application\\chrome.exe\tGoogle Chrome\tGoogle Chrome\t119.0.6045.200\tGoogle LLC\t05.12.2023 01:12:20\tDESKTOP-66VM4R8\\Robin\t\tA\t05.12.2023 01:13:07\t05.12.2023 01:13:06\t\t\t\t\t\t\n",
    "\n"
   ]
  },
  {
   "cell_type": "markdown",
   "metadata": {},
   "source": []
  }
 ],
 "metadata": {
  "kernelspec": {
   "display_name": "Python 3",
   "language": "python",
   "name": "python3"
  },
  "language_info": {
   "codemirror_mode": {
    "name": "ipython",
    "version": 2
   },
   "file_extension": ".py",
   "mimetype": "text/x-python",
   "name": "python",
   "nbconvert_exporter": "python",
   "pygments_lexer": "ipython2",
   "version": "2.7.6"
  }
 },
 "nbformat": 4,
 "nbformat_minor": 5
}
