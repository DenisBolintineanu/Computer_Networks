{
 "cells": [
  {
   "cell_type": "markdown",
   "metadata": {},
   "source": [
    "<h1> Packet Loss <h1>"
   ]
  },
  {
   "cell_type": "markdown",
   "metadata": {},
   "source": [
    "<h3> 1) Determine the end-to-end transmission duration for a packet. <h3>"
   ]
  },
  {
   "cell_type": "code",
   "execution_count": null,
   "metadata": {},
   "outputs": [],
   "source": [
    "#End to end = prox + tx\n",
    "#tx = L/C\n",
    "#tprop= l/v"
   ]
  },
  {
   "cell_type": "markdown",
   "metadata": {},
   "source": [
    "**Paramters:**"
   ]
  },
  {
   "cell_type": "code",
   "execution_count": 3,
   "metadata": {},
   "outputs": [],
   "source": [
    "#Propagation delay in ms\n",
    "t_prop_1 = 10 \n",
    "t_prop_2 = 10 \n",
    "t_prop_3 = 1 \n",
    "t_prop_4 = 10\n",
    "\n",
    "#Capacity in bits\n",
    "capacity_1 = 20_000_000\n",
    "capacity_2 = 4_000_000\n",
    "capacity_3 = 800_000\n",
    "capacity_4 = 80_000\n",
    "\n",
    "#Packetsize in bits\n",
    "packet_size = 250 * 8"
   ]
  },
  {
   "cell_type": "markdown",
   "metadata": {},
   "source": [
    "**Calculations:**"
   ]
  },
  {
   "cell_type": "markdown",
   "metadata": {},
   "source": [
    "1.$t_{tx} = L/C$ <br>\n",
    "2.$t_E2E_1 = \n",
    "\\sum_{n=1}^{4} t_{tx_i} +\n",
    "\\sum_{n=1}^{4} t_{prop_i}\n",
    "$"
   ]
  },
  {
   "cell_type": "code",
   "execution_count": 20,
   "metadata": {},
   "outputs": [
    {
     "name": "stdout",
     "output_type": "stream",
     "text": [
      "transmission delay: 0.1ms\n",
      "transmission delay: 0.5ms\n",
      "transmission delay: 2.5ms\n",
      "transmission delay: 25.0ms\n",
      "End-to-End-Delay: 25.0ms\n"
     ]
    }
   ],
   "source": [
    "\n",
    "#Calculate transmissons delay\n",
    "t_tx_1 = packet_size / capacity_1 * 1000\n",
    "t_tx_2 = packet_size / capacity_2 * 1000\n",
    "t_tx_3 = packet_size / capacity_3 * 1000\n",
    "t_tx_4 = packet_size / capacity_4 * 1000\n",
    "\n",
    "\n",
    "\n",
    "#Calculate end-to-end transmisson for one packet\n",
    "t_E2E_1 = 0\n",
    "for i in range(1,5):\n",
    "     # Erstelle den Variablennamen mit f-string-Formatierung\n",
    "    t_prop_i = f\"t_prop_{i}\"\n",
    "    t_tx_i = f\"t_tx_{i}\"\n",
    "    print(\"transmission delay: \" + str(globals()[t_tx_i]) + \"ms\")\n",
    "    \n",
    "    # Rufe die Variable auf (dies ist nur ein Beispiel, du kannst hier deine eigene Logik hinzufügen)\n",
    "    t_E2E_1 =+ globals()[t_prop_i]\n",
    "    t_E2E_1 =+ globals()[t_tx_i]\n",
    "\n",
    "print(\"End-to-End-Delay: \" + str(t_E2E_1) + \"ms\")"
   ]
  },
  {
   "cell_type": "markdown",
   "metadata": {},
   "source": [
    "<H3> 2) How long does it take to transmit 35 packets from Q to Z? Assume that the buffers are large enough so that no packets are lost. <h3>"
   ]
  },
  {
   "cell_type": "markdown",
   "metadata": {},
   "source": [
    "**Formel**\n",
    "\n",
    "1. $TE2E(n) = TE2E(1) + (n - 1) * L_{\\text{min}}(C_1) = \\sqrt{C_1}$\n",
    "\n",
    "\n",
    "\n",
    "\n"
   ]
  },
  {
   "cell_type": "code",
   "execution_count": 18,
   "metadata": {},
   "outputs": [
    {
     "name": "stdout",
     "output_type": "stream",
     "text": [
      "End-to-End-Delay for 35 packets: 0.875ms\n"
     ]
    }
   ],
   "source": [
    "t_E2E_35 = round(t_E2E_1 + ((35-1) * t_tx_4), 3)\n",
    "print(\"End-to-End-Delay for 35 packets: \" + str(t_E2E_35) + \"ms\")"
   ]
  },
  {
   "cell_type": "markdown",
   "metadata": {},
   "source": [
    "<H3> 3) Determine which packages will arrive at destination Z when Q sends 35 packages at once. Now, take into account the specified buffer capacities. <H3>"
   ]
  },
  {
   "cell_type": "markdown",
   "metadata": {},
   "source": [
    "**Link1**<br>\n",
    "*arrival-interval:* 0.1ms<br>\n",
    "*transmission delay:* 0.5ms\n",
    "\n",
    "| Zeitpunkt (ms) | Ereignis         | Buffer               | Übertragung | Ende        |\n",
    "|:--------------:|:----------------:|:--------------------:|:-----------:|:-----------:|\n",
    "| 0.0            | A1               |                      | P1          | 0.5         |\n",
    "| 0.1            | A2               | A2                   |             |             |\n",
    "| 0.2            | A3               | A3, A2               |             |             |\n",
    "| 0.3            | A4               | A4, A3, A2           |             |             |\n",
    "| 0.4            | A5               | A5, A4, A3, A2       |             |             |\n",
    "| 0.5            | D1               | A5, A4, A3           | P2          | 1.0         |\n",
    "|                | A6               | A6, A5, A4, A3       |             |             |\n",
    "| 0.6            | A7 (dropped)     | A6, A5, A4, A3       |             |             |\n",
    "| 0.7            | A8 (dropped)     | A6, A5, A4, A3       |             |             |\n",
    "| 0.8            | A9 (dropped)     | A6, A5, A4, A3       |             |             |\n",
    "| 0.9            | A10 (dropped)    | A6, A5, A4, A3       |             |             |\n",
    "| 1.0            | D2               | A6, A5, A4           | P3          | 1.5         |\n",
    "|                | A11              | A11, A6, A5, A4      |             |             |\n",
    "| 1.1            | A12 (dropped)    | A11, A6, A5, A4      |             |             |\n",
    "| 1.2            | A13 (dropped)    | A11, A6, A5, A4      |             |             |\n",
    "| 1.3            | A14 (dropped)    | A11, A6, A5, A4      |             |             |\n",
    "| 1.4            | A15 (dropped)    | A11, A6, A5, A4      |             |             |\n",
    "| 1.5            | D3               | A11, A6, A5          | P4          | 2.0         |\n",
    "|                | A16              | A16, A11, A6, A5     |             |             |\n",
    "\n",
    "\n",
    "Starting from package 6, only every 5th package arrives\n",
    "-> 11 out of 35 arrive: (A1-A6, A11, A16, A21, A26, A31)\n"
   ]
  },
  {
   "cell_type": "markdown",
   "metadata": {},
   "source": [
    "**Link2**<br>\n",
    "*arrival-interval:* 0.5ms<br>\n",
    "*transmission delay:* 2.5ms\n",
    "\n",
    "Due to the same ratio of packet arrival rate to data rate as in Link 1, one can expect the same result! Therefore, starting from packet 6, only every 5th packet arrives here as well! -> 7 out of 11: (A1-A6, A31)."
   ]
  },
  {
   "cell_type": "markdown",
   "metadata": {},
   "source": [
    "**Link3**<br>\n",
    "*arrival-interval:* 2.5ms<br>\n",
    "*transmission delay:* 25ms\n",
    "\n",
    "| Zeitpunkt (ms) | Ereignis         | Buffer               | Übertragung | Ende        |\n",
    "|:--------------:|:----------------:|:--------------------:|:-----------:|:-----------:|\n",
    "| 0.0            | A1               |                      | P1          | 25          |\n",
    "| 2.5            | A2               | A2                   |             |             |\n",
    "| 5.0            | A3               | A3, A2               |             |             |\n",
    "| 7.5            | A4(dropped)      | A3, A2               |             |             |\n",
    "| 10.0           | A5(dropped)      | A3, A2               |             |             |\n",
    "| 12.5           | A6(dropped)      | A3                   |             |             |\n",
    "| 15.0           | A31(dropped)     | A4, A3               |             |             |\n",
    "\n",
    "In this case, only the first two packets arrive -> 2 out of 7: (A1, A2)."
   ]
  }
 ],
 "metadata": {
  "kernelspec": {
   "display_name": "base",
   "language": "python",
   "name": "python3"
  },
  "language_info": {
   "codemirror_mode": {
    "name": "ipython",
    "version": 3
   },
   "file_extension": ".py",
   "mimetype": "text/x-python",
   "name": "python",
   "nbconvert_exporter": "python",
   "pygments_lexer": "ipython3",
   "version": "3.10.9"
  }
 },
 "nbformat": 4,
 "nbformat_minor": 2
}
