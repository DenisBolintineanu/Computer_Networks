{
 "cells": [
  {
   "cell_type": "markdown",
   "metadata": {},
   "source": [
    "<h1> Packet Loss <h1>"
   ]
  },
  {
   "cell_type": "markdown",
   "metadata": {},
   "source": [
    "<h3> 1) Determine the end-to-end transmission duration for a packet. <h3>"
   ]
  },
  {
   "cell_type": "code",
   "execution_count": null,
   "metadata": {},
   "outputs": [],
   "source": [
    "#End to end = prox + tx\n",
    "#tx = L/C\n",
    "#tprop= l/v"
   ]
  },
  {
   "cell_type": "markdown",
   "metadata": {},
   "source": [
    "**Paramters:**"
   ]
  },
  {
   "cell_type": "code",
   "execution_count": 3,
   "metadata": {},
   "outputs": [],
   "source": [
    "#Propagation delay in ms\n",
    "t_prop_1 = 10 \n",
    "t_prop_2 = 10 \n",
    "t_prop_3 = 1 \n",
    "t_prop_4 = 10\n",
    "\n",
    "#Capacity in bits\n",
    "capacity_1 = 20_000_000\n",
    "capacity_2 = 4_000_000\n",
    "capacity_3 = 800_000\n",
    "capacity_4 = 80_000\n",
    "\n",
    "#Packetsize in bits\n",
    "packet_size = 250 * 8"
   ]
  },
  {
   "cell_type": "markdown",
   "metadata": {},
   "source": [
    "**Calculations:**"
   ]
  },
  {
   "cell_type": "markdown",
   "metadata": {},
   "source": [
    "1.$t_{tx} = L/C$ <br>\n",
    "2.$t_E2E_1 = \n",
    "\\sum_{n=1}^{4} t_{tx_i} +\n",
    "\\sum_{n=1}^{4} t_{prop_i}\n",
    "$"
   ]
  },
  {
   "cell_type": "code",
   "execution_count": 8,
   "metadata": {},
   "outputs": [
    {
     "name": "stdout",
     "output_type": "stream",
     "text": [
      "transmission delay: 0.0001ms\n",
      "transmission delay: 0.0005ms\n",
      "transmission delay: 0.0025ms\n",
      "transmission delay: 0.025ms\n",
      "End-to-End-Delay: 0.025ms\n"
     ]
    }
   ],
   "source": [
    "\n",
    "#Calculate transmissons delay\n",
    "t_tx_1 = packet_size / capacity_1\n",
    "t_tx_2 = packet_size / capacity_2\n",
    "t_tx_3 = packet_size / capacity_3\n",
    "t_tx_4 = packet_size / capacity_4\n",
    "\n",
    "\n",
    "\n",
    "#Calculate end-to-end transmisson for one packet\n",
    "t_E2E_1 = 0\n",
    "for i in range(1,5):\n",
    "     # Erstelle den Variablennamen mit f-string-Formatierung\n",
    "    t_prop_i = f\"t_prop_{i}\"\n",
    "    t_tx_i = f\"t_tx_{i}\"\n",
    "    print(\"transmission delay: \" + str(globals()[t_tx_i]) + \"ms\")\n",
    "    \n",
    "    # Rufe die Variable auf (dies ist nur ein Beispiel, du kannst hier deine eigene Logik hinzufügen)\n",
    "    t_E2E_1 =+ globals()[t_prop_i]\n",
    "    t_E2E_1 =+ globals()[t_tx_i]\n",
    "\n",
    "print(\"End-to-End-Delay: \" + str(t_E2E_1) + \"ms\")"
   ]
  },
  {
   "cell_type": "markdown",
   "metadata": {},
   "source": [
    "<H3> 2) How long does it take to transmit 35 packets from Q to Z? Assume that the buffers are large enough so that no packets are lost. <h3>"
   ]
  },
  {
   "cell_type": "markdown",
   "metadata": {},
   "source": [
    "**Formel**\n",
    "\n",
    "1. $TE2E(n) = TE2E(1) + (n - 1) * L_{\\text{min}}(C_1) = \\sqrt{C_1}$\n",
    "\n",
    "\n",
    "\n",
    "\n"
   ]
  },
  {
   "cell_type": "code",
   "execution_count": 18,
   "metadata": {},
   "outputs": [
    {
     "name": "stdout",
     "output_type": "stream",
     "text": [
      "End-to-End-Delay for 35 packets: 0.875ms\n"
     ]
    }
   ],
   "source": [
    "t_E2E_35 = round(t_E2E_1 + ((35-1) * t_tx_4), 3)\n",
    "print(\"End-to-End-Delay for 35 packets: \" + str(t_E2E_35) + \"ms\")"
   ]
  }
 ],
 "metadata": {
  "kernelspec": {
   "display_name": "base",
   "language": "python",
   "name": "python3"
  },
  "language_info": {
   "codemirror_mode": {
    "name": "ipython",
    "version": 3
   },
   "file_extension": ".py",
   "mimetype": "text/x-python",
   "name": "python",
   "nbconvert_exporter": "python",
   "pygments_lexer": "ipython3",
   "version": "3.10.9"
  }
 },
 "nbformat": 4,
 "nbformat_minor": 2
}
