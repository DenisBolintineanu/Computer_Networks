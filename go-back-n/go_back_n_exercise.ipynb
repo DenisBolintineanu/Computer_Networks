{
 "cells": [
  {
   "cell_type": "markdown",
   "metadata": {},
   "source": [
    "<h3> 1) Determine the end-to-end transmission duration for a packet. <h3>"
   ]
  },
  {
   "cell_type": "code",
   "execution_count": 11,
   "metadata": {},
   "outputs": [],
   "source": [
    "#Propagation delay in ms\n",
    "t_prop_1 = 2\n",
    "t_prop_2 = 4 \n",
    "t_prop_3 = 10 \n",
    "t_prop_4 = 1\n",
    "\n",
    "#Capacity in bits\n",
    "capacity_1 = 3_000_000\n",
    "capacity_2 = 9_000_000\n",
    "capacity_3 = 2_000_000\n",
    "capacity_4 = 2_000_000\n",
    "\n",
    "#Packetsize in bits\n",
    "packet_size = 1125 * 8"
   ]
  },
  {
   "cell_type": "markdown",
   "metadata": {},
   "source": [
    "1.$t_{tx} = L/C$ <br>\n",
    "2.$t_E2E_1 = \n",
    "\\sum_{n=1}^{4} t_{tx_i} +\n",
    "\\sum_{n=1}^{4} t_{prop_i}\n",
    "$"
   ]
  },
  {
   "cell_type": "code",
   "execution_count": 12,
   "metadata": {},
   "outputs": [
    {
     "name": "stdout",
     "output_type": "stream",
     "text": [
      "transmission delay: 3.0ms\n",
      "transmission delay: 1.0ms\n",
      "transmission delay: 4.5ms\n",
      "transmission delay: 4.5ms\n",
      "End-to-End-Delay: 4.5ms\n"
     ]
    }
   ],
   "source": [
    "\n",
    "#Calculate transmissons delay\n",
    "t_tx_1 = packet_size / capacity_1 * 1000\n",
    "t_tx_2 = packet_size / capacity_2 * 1000\n",
    "t_tx_3 = packet_size / capacity_3 * 1000\n",
    "t_tx_4 = packet_size / capacity_4 * 1000\n",
    "\n",
    "\n",
    "\n",
    "#Calculate end-to-end transmisson for one packet\n",
    "t_E2E_1 = 0\n",
    "for i in range(1,5):\n",
    "     # Erstelle den Variablennamen mit f-string-Formatierung\n",
    "    t_prop_i = f\"t_prop_{i}\"\n",
    "    t_tx_i = f\"t_tx_{i}\"\n",
    "    print(\"transmission delay: \" + str(globals()[t_tx_i]) + \"ms\")\n",
    "    \n",
    "    # Rufe die Variable auf (dies ist nur ein Beispiel, du kannst hier deine eigene Logik hinzufügen)\n",
    "    t_E2E_1 =+ globals()[t_prop_i]\n",
    "    t_E2E_1 =+ globals()[t_tx_i]\n",
    "\n",
    "print(\"End-to-End-Delay: \" + str(t_E2E_1) + \"ms\")"
   ]
  },
  {
   "cell_type": "markdown",
   "metadata": {},
   "source": [
    "<h3> 2) The source sends packets at a rate of 500 packets per second. Determine for each link which packets are lost. Consider the first 20 packets sent for this. <h3>"
   ]
  },
  {
   "cell_type": "code",
   "execution_count": 13,
   "metadata": {},
   "outputs": [
    {
     "name": "stdout",
     "output_type": "stream",
     "text": [
      "Buffer 1: 5 packets\n",
      "Buffer 2: 4 packets\n",
      "Buffer 3: 3 packets\n",
      "Buffer 4: 2 packets\n"
     ]
    }
   ],
   "source": [
    "buffer_size_1 = 6*8000\n",
    "buffer_size_2 = 5*8000\n",
    "buffer_size_3 = 4*8000\n",
    "buffer_size_4 = 3*8000\n",
    "\n",
    "import math\n",
    "\n",
    "print(\"Buffer 1: \" + str(math.floor(buffer_size_1/packet_size)) + \" packets\")\n",
    "print(\"Buffer 2: \" + str(math.floor(buffer_size_2/packet_size)) + \" packets\")\n",
    "print(\"Buffer 3: \" + str(math.floor(buffer_size_3/packet_size)) + \" packets\")\n",
    "print(\"Buffer 4: \" + str(math.floor(buffer_size_4/packet_size)) + \" packets\")"
   ]
  },
  {
   "cell_type": "markdown",
   "metadata": {},
   "source": [
    "**Link2**<br>\n",
    "*arrival-interval:* 0.0ms<br>\n",
    "*transmission delay:* 3.0ms"
   ]
  },
  {
   "cell_type": "markdown",
   "metadata": {},
   "source": [
    "-> Since all 20 pakets arrive at the same time, only **5** are buffered! (As many as the buffer fits)<br>\n",
    "-> Pakets remaining: 5"
   ]
  },
  {
   "cell_type": "markdown",
   "metadata": {},
   "source": [
    "**Link2**<br>\n",
    "*arrival-interval:* 3.0ms<br>\n",
    "*transmission delay:* 1.0ms"
   ]
  },
  {
   "cell_type": "markdown",
   "metadata": {},
   "source": [
    "| Zeitpunkt (ms) | Ereignis         | Buffer               | Übertragung | Ende        |\n",
    "|:--------------:|:----------------:|:--------------------:|:-----------:|:-----------:|\n",
    "| 0.0            | A1               |                      | P1          | 1.0         |\n",
    "| 1.0            | D1               |                      |             |             |\n",
    "| 3.0            | A2               |                      | P2          | 4.0         |\n",
    "| 4.0            | D2               |                      |             |             |\n",
    "| ...            | ...              | ...                  | ...         | ...         |\n"
   ]
  },
  {
   "cell_type": "markdown",
   "metadata": {},
   "source": [
    "-> transmission-delay is lower then arrival-interval: No pakets are lost<br>\n",
    "-> Pakets remaining: 5"
   ]
  },
  {
   "cell_type": "markdown",
   "metadata": {},
   "source": [
    "**Link2**<br>\n",
    "*arrival-interval:* 1.0ms<br>\n",
    "*transmission delay:* 4.5ms"
   ]
  },
  {
   "cell_type": "markdown",
   "metadata": {},
   "source": [
    "| Zeitpunkt (ms) | Ereignis         | Buffer               | Übertragung | Ende        |\n",
    "|:--------------:|:----------------:|:--------------------:|:-----------:|:-----------:|\n",
    "| 0.0            | A1               |                      | P1          | 4.5         |\n",
    "| 1.0            | A2               | A2                   |             |             |\n",
    "| 2.0            | A3               | A3,A2                |             |             |\n",
    "| 3.0            | A4               | A4,A3,A2             |             |             |\n",
    "| 4.0            | A5(dropped)      | A4,A3,A2             |             |             |\n",
    "| 4.5            | D1               | A4,A3                | P2          | 9.0         |\n",
    "| ...            | ...              | ...                  | ...         | ...         |\n",
    "\n",
    "-> One Paket(A5) dropped! <br>\n",
    "-> Pakets remaining: 4"
   ]
  },
  {
   "cell_type": "markdown",
   "metadata": {},
   "source": [
    "**Link2**<br>\n",
    "*arrival-interval:* 4.5ms<br>\n",
    "*transmission delay:* 4.5ms"
   ]
  },
  {
   "cell_type": "markdown",
   "metadata": {},
   "source": [
    "-> since arrival-interval and transmission-delay are the same no pakets are lost<br>\n",
    "-> 4 pakets remaining\n",
    "\n",
    "**We have a 75% package loss**"
   ]
  },
  {
   "cell_type": "markdown",
   "metadata": {},
   "source": [
    "<h4> \n",
    "3) To reduce the number of packet losses, a Go-Back-N protocol with a transmission window of N=15 packets is used at the transport layer. The timeout is set to 100ms, and the transmission of an ACK from Z to Q takes 15ms. Determine the arrival time of the last packet when the source finishes transmitting after 20 packets. Furthermore, assume that the source transmits packets at a rate of 500 packets per second.<h4>"
   ]
  },
  {
   "cell_type": "markdown",
   "metadata": {},
   "source": [
    "So we know that only 4 pakets will go trough in one go <br>\n",
    "\n",
    "The time for all 4 pakets to arrive is: \n",
    "\n",
    "**Formel**\n",
    "\n",
    "1. $TE2E(n) = TE2E(1) + (n - 1) * L_{\\text{min}}(C_1)$\n",
    "\n",
    "\n",
    "\n",
    "\n"
   ]
  },
  {
   "cell_type": "code",
   "execution_count": 14,
   "metadata": {},
   "outputs": [
    {
     "name": "stdout",
     "output_type": "stream",
     "text": [
      "End-to-End-Delay for 4 packets: 18.0ms\n"
     ]
    }
   ],
   "source": [
    "t_E2E_4 = round(t_E2E_1 + ((4-1) * t_tx_4), 3)\n",
    "print(\"End-to-End-Delay for 4 packets: \" + str(t_E2E_4) + \"ms\")"
   ]
  },
  {
   "cell_type": "markdown",
   "metadata": {},
   "source": [
    "With this information we can determine the Time that all 20 packets need for transmitting: <br>\n",
    "\n",
    "| Event                 | Time Delay | Cumulative Time |\n",
    "|-----------------------|------------|-----------------|\n",
    "| Sending packets 1-15  | 0ms        | 0ms             |\n",
    "| Arrival packets 1-4   | 18ms       | 18ms            |\n",
    "| ACK of 4th packet     | 15ms       | 33ms            |\n",
    "| Timeout for packet 5  | 100ms      | 133ms           |\n",
    "| Sending packets 5-19  | 0ms        | 133ms           |\n",
    "| Arrival packets 5-8   | 18ms       | 151ms           |\n",
    "| ACK of 8th packet     | 15ms       | 166ms           |\n",
    "| Timeout for packet 9  | 100ms      | 266ms           |\n",
    "| Sending packets 9-20  | 0ms        | 266ms           |\n",
    "| Arrival packets 9-12  | 18ms       | 284ms           |\n",
    "| ACK of 12th packet    | 15ms       | 299ms           |\n",
    "| Sending packets 13-20 | 0ms        | 299ms           |\n",
    "| Arrival packets 13-16 | 18ms       | 317ms           |\n",
    "| ACK of 16th packet    | 15ms       | 332ms           |\n",
    "| Sending packets 17-20 | 0ms        | 332ms           |\n",
    "| Arrival packets 17-20 | 18ms       | 350ms           |\n",
    "| ACK of 20th packet    | 15ms       | 365ms           |\n",
    "\n",
    "Arrival Time of the 20th packet: 365ms "
   ]
  }
 ],
 "metadata": {
  "kernelspec": {
   "display_name": "base",
   "language": "python",
   "name": "python3"
  },
  "language_info": {
   "codemirror_mode": {
    "name": "ipython",
    "version": 3
   },
   "file_extension": ".py",
   "mimetype": "text/x-python",
   "name": "python",
   "nbconvert_exporter": "python",
   "pygments_lexer": "ipython3",
   "version": "3.11.5"
  }
 },
 "nbformat": 4,
 "nbformat_minor": 2
}
