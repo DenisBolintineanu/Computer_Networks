{
 "cells": [
  {
   "cell_type": "code",
   "execution_count": 1,
   "id": "786dc68c3438a7dd",
   "metadata": {
    "ExecuteTime": {
     "end_time": "2023-12-02T03:15:01.501305Z",
     "start_time": "2023-12-02T03:15:01.456048Z"
    }
   },
   "outputs": [
    {
     "ename": "ModuleNotFoundError",
     "evalue": "No module named 'pandas'",
     "output_type": "error",
     "traceback": [
      "\u001B[0;31m---------------------------------------------------------------------------\u001B[0m",
      "\u001B[0;31mModuleNotFoundError\u001B[0m                       Traceback (most recent call last)",
      "Cell \u001B[0;32mIn[1], line 1\u001B[0m\n\u001B[0;32m----> 1\u001B[0m \u001B[38;5;28;01mfrom\u001B[39;00m \u001B[38;5;21;01mmain\u001B[39;00m \u001B[38;5;28;01mimport\u001B[39;00m start_purchase\n\u001B[1;32m      2\u001B[0m \u001B[38;5;28;01mimport\u001B[39;00m \u001B[38;5;21;01mpandas\u001B[39;00m \u001B[38;5;28;01mas\u001B[39;00m \u001B[38;5;21;01mpd\u001B[39;00m\n\u001B[1;32m      3\u001B[0m \u001B[38;5;28;01mimport\u001B[39;00m \u001B[38;5;21;01mplotly\u001B[39;00m\u001B[38;5;21;01m.\u001B[39;00m\u001B[38;5;21;01mexpress\u001B[39;00m \u001B[38;5;28;01mas\u001B[39;00m \u001B[38;5;21;01mpx\u001B[39;00m\n",
      "File \u001B[0;32m~/IdeaProjects/Computer_Networks/SuperMarket/EventDriven/main.py:5\u001B[0m\n\u001B[1;32m      3\u001B[0m \u001B[38;5;28;01mfrom\u001B[39;00m \u001B[38;5;21;01mEventQueue\u001B[39;00m \u001B[38;5;28;01mimport\u001B[39;00m EventQueue\n\u001B[1;32m      4\u001B[0m \u001B[38;5;28;01mfrom\u001B[39;00m \u001B[38;5;21;01mStation\u001B[39;00m \u001B[38;5;28;01mimport\u001B[39;00m Station\n\u001B[0;32m----> 5\u001B[0m \u001B[38;5;28;01mimport\u001B[39;00m \u001B[38;5;21;01mpandas\u001B[39;00m \u001B[38;5;28;01mas\u001B[39;00m \u001B[38;5;21;01mpd\u001B[39;00m\n\u001B[1;32m      7\u001B[0m \u001B[38;5;28;01mwith\u001B[39;00m \u001B[38;5;28mopen\u001B[39m(\u001B[38;5;124m\"\u001B[39m\u001B[38;5;124msupermarket.txt\u001B[39m\u001B[38;5;124m\"\u001B[39m, \u001B[38;5;124m\"\u001B[39m\u001B[38;5;124mw\u001B[39m\u001B[38;5;124m\"\u001B[39m) \u001B[38;5;28;01mas\u001B[39;00m f, \u001B[38;5;28mopen\u001B[39m(\u001B[38;5;124m\"\u001B[39m\u001B[38;5;124msupermarket_customer.txt\u001B[39m\u001B[38;5;124m\"\u001B[39m, \u001B[38;5;124m\"\u001B[39m\u001B[38;5;124mw\u001B[39m\u001B[38;5;124m\"\u001B[39m) \u001B[38;5;28;01mas\u001B[39;00m fc, \u001B[38;5;28mopen\u001B[39m(\u001B[38;5;124m\"\u001B[39m\u001B[38;5;124msupermarket_station.txt\u001B[39m\u001B[38;5;124m\"\u001B[39m,\n\u001B[1;32m      8\u001B[0m                                                                                           \u001B[38;5;124m\"\u001B[39m\u001B[38;5;124mw\u001B[39m\u001B[38;5;124m\"\u001B[39m) \u001B[38;5;28;01mas\u001B[39;00m fs:\n\u001B[1;32m      9\u001B[0m     METRICS \u001B[38;5;241m=\u001B[39m [\n\u001B[1;32m     10\u001B[0m         \u001B[38;5;124m'\u001B[39m\u001B[38;5;124mEnd of simulation\u001B[39m\u001B[38;5;124m'\u001B[39m,\n\u001B[1;32m     11\u001B[0m         \u001B[38;5;124m'\u001B[39m\u001B[38;5;124mTotal customers\u001B[39m\u001B[38;5;124m'\u001B[39m,\n\u001B[0;32m   (...)\u001B[0m\n\u001B[1;32m     18\u001B[0m         \u001B[38;5;124m'\u001B[39m\u001B[38;5;124mDrop percentage at Cashier\u001B[39m\u001B[38;5;124m'\u001B[39m\n\u001B[1;32m     19\u001B[0m     ]\n",
      "\u001B[0;31mModuleNotFoundError\u001B[0m: No module named 'pandas'"
     ]
    }
   ],
   "source": [
    "from main import start_purchase\n",
    "import pandas as pd\n",
    "import plotly.express as px"
   ]
  },
  {
   "cell_type": "markdown",
   "id": "4cf70b5041d801d1",
   "metadata": {},
   "source": [
    "<H1>Convergence Analysis of Drop-Rate in a Fixed Packet Interval Network Environmen</H1>"
   ]
  },
  {
   "cell_type": "code",
   "execution_count": null,
   "id": "4773137c3476833d",
   "metadata": {
    "ExecuteTime": {
     "start_time": "2023-12-02T03:15:01.493535Z"
    }
   },
   "outputs": [],
   "source": [
    "result = pd.DataFrame()\n",
    "dfs = []\n",
    "keys = []\n",
    "time = 30 * 60\n",
    "for i in range (time + 1, time * 50 + 1, time):\n",
    "    df = start_purchase(i)\n",
    "    dfs.append(df)\n",
    "    keys.append(str(i) + \" seconds\")\n",
    "result = pd.concat(dfs, axis=1, keys=keys)"
   ]
  },
  {
   "cell_type": "code",
   "execution_count": null,
   "id": "bdf87244febfb5d",
   "metadata": {
    "ExecuteTime": {
     "start_time": "2023-12-02T03:15:01.494824Z"
    }
   },
   "outputs": [],
   "source": [
    "slice_data = result.loc['Average shopping duration']\n",
    "fig = px.line(x=result.columns.get_level_values(0).unique(), y=slice_data, title=\"sample figure\")\n",
    "fig.show()"
   ]
  },
  {
   "cell_type": "code",
   "execution_count": null,
   "id": "436e95095d401e13",
   "metadata": {
    "ExecuteTime": {
     "start_time": "2023-12-02T03:15:01.496953Z"
    }
   },
   "outputs": [],
   "source": [
    "slice_data = result.loc['Average shopping duration (complete)']\n",
    "fig = px.line(x=result.columns.get_level_values(0).unique(), y=slice_data, title=\"sample figure\")\n",
    "fig.show()"
   ]
  },
  {
   "cell_type": "code",
   "execution_count": null,
   "id": "c1e5ec78c10b6d34",
   "metadata": {
    "ExecuteTime": {
     "start_time": "2023-12-02T03:15:01.498885Z"
    }
   },
   "outputs": [],
   "source": [
    "slice_data = result.loc['Drop percentage at Baker']\n",
    "fig = px.line(x=result.columns.get_level_values(0).unique(), y=slice_data, title=\"sample figure\")\n",
    "fig.show()"
   ]
  },
  {
   "cell_type": "code",
   "execution_count": null,
   "id": "bbf766ae048f75d2",
   "metadata": {
    "ExecuteTime": {
     "start_time": "2023-12-02T03:15:01.500832Z"
    }
   },
   "outputs": [],
   "source": [
    "slice_data = result.loc['Drop percentage at Butcher']\n",
    "fig = px.line(x=result.columns.get_level_values(0).unique(), y=slice_data, title=\"sample figure\")\n",
    "fig.show()"
   ]
  },
  {
   "cell_type": "code",
   "execution_count": null,
   "id": "a3de2225af37be",
   "metadata": {
    "ExecuteTime": {
     "start_time": "2023-12-02T03:15:01.502343Z"
    }
   },
   "outputs": [],
   "source": [
    "slice_data = result.loc['Drop percentage at Cheese']\n",
    "fig = px.line(x=result.columns.get_level_values(0).unique(), y=slice_data, title=\"sample figure\")\n",
    "fig.show()"
   ]
  },
  {
   "cell_type": "code",
   "execution_count": null,
   "id": "94a6a5e790233bab",
   "metadata": {
    "ExecuteTime": {
     "end_time": "2023-12-02T03:15:01.520602Z",
     "start_time": "2023-12-02T03:15:01.505374Z"
    }
   },
   "outputs": [],
   "source": [
    "slice_data = result.loc['Drop percentage at Cashier']\n",
    "fig = px.line(x=result.columns.get_level_values(0).unique(), y=slice_data, title=\"sample figure\")\n",
    "fig.show()"
   ]
  }
 ],
 "metadata": {
  "kernelspec": {
   "display_name": "Python 3 (ipykernel)",
   "language": "python",
   "name": "python3"
  },
  "language_info": {
   "codemirror_mode": {
    "name": "ipython",
    "version": 3
   },
   "file_extension": ".py",
   "mimetype": "text/x-python",
   "name": "python",
   "nbconvert_exporter": "python",
   "pygments_lexer": "ipython3",
   "version": "3.9.12"
  }
 },
 "nbformat": 4,
 "nbformat_minor": 5
}
