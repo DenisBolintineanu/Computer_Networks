{
 "cells": [
  {
   "cell_type": "markdown",
   "source": [
    "<H1> End to end delay </H1>"
   ],
   "metadata": {
    "collapsed": false
   },
   "id": "94480db0fa5b1d27"
  },
  {
   "cell_type": "markdown",
   "source": [
    "<H2> Theoretical exercises </H2>"
   ],
   "metadata": {
    "collapsed": false
   },
   "id": "1582c7727a49d24e"
  },
  {
   "cell_type": "markdown",
   "source": [
    "<H3> Setting variables </H3>"
   ],
   "metadata": {
    "collapsed": false
   },
   "id": "60291c49bf6469f2"
  },
  {
   "cell_type": "code",
   "execution_count": 13,
   "outputs": [],
   "source": [
    "link1_capacity = 60_000_000\n",
    "link2_capacity = 25_000_000\n",
    "link3_capacity = 20_000_000_000\n",
    "\n",
    "link1_length = 15\n",
    "link2_length = 250\n",
    "link3_length = 10_000\n",
    "\n",
    "link1_velocity = 300_000_000\n",
    "link2_velocity = 200_000_000\n",
    "link3_velocity = 250_000_000"
   ],
   "metadata": {
    "collapsed": false,
    "ExecuteTime": {
     "end_time": "2023-11-07T15:58:09.118357Z",
     "start_time": "2023-11-07T15:58:09.091214Z"
    }
   },
   "id": "a18466b88ee7744b"
  },
  {
   "cell_type": "markdown",
   "source": [
    "\n",
    " **1) Determine the propagation delay and the transmission delay for the 3 links for packets of size 1500 bytes.**\n"
   ],
   "metadata": {
    "collapsed": false
   },
   "id": "6aaa1eb5afa9da39"
  },
  {
   "cell_type": "code",
   "execution_count": null,
   "outputs": [],
   "source": [
    "package_size = 1_500 * 8\n",
    "\n",
    "link1_propagation_delay = package_size / link1_capacity\n",
    "link2_propagation_delay = package_size / link2_capacity\n",
    "link3_propagation_delay = package_size / link3_capacity\n",
    "\n",
    "print(\"The propagation delay for Link 1 is \" + str(link1_propagation_delay * 1000_000) + \" micro seconds\")\n",
    "print(\"The propagation delay for Link 2 is \" + str(link2_propagation_delay * 1000_000) + \" micro seconds\")\n",
    "print(\"The propagation delay for Link 3 is \" + str(link3_propagation_delay * 1000_000) + \" micro seconds\")\n"
   ],
   "metadata": {
    "collapsed": false,
    "is_executing": true,
    "ExecuteTime": {
     "start_time": "2023-11-07T15:58:09.095896Z"
    }
   },
   "id": "e0fb07dddbfa10de"
  },
  {
   "cell_type": "code",
   "execution_count": null,
   "outputs": [],
   "source": [
    "link1_transmission_delay = link1_length / link1_velocity\n",
    "link2_transmission_delay = link2_length / link2_velocity\n",
    "link3_transmission_delay = link3_length / link3_velocity\n",
    "\n",
    "print(\"The transmission delay for Link 1 is \" + str(round(link1_transmission_delay * 1_000_000, 3)) + \" micro seconds\")\n",
    "print(\"The transmission delay for Link 2 is \" + str(link2_transmission_delay * 1_000_000) + \" micro seconds\")\n",
    "print(\"The transmission delay for Link 3 is \" + str(link3_transmission_delay * 1_000_000) + \" micro seconds\")"
   ],
   "metadata": {
    "collapsed": false,
    "is_executing": true
   },
   "id": "6eaf2f44f3b00730"
  },
  {
   "cell_type": "markdown",
   "source": [
    "**2) Determine the logical bus length of the three links. The logical bus length is the number of packets (or the fraction of a packet) that can be simultaneously present on the bus.**"
   ],
   "metadata": {
    "collapsed": false
   },
   "id": "fe40d331d55a8157"
  },
  {
   "cell_type": "code",
   "execution_count": null,
   "outputs": [],
   "source": [
    "link1_duration = link1_transmission_delay / package_size\n",
    "link2_duration = link2_transmission_delay / package_size\n",
    "link3_duration = link3_transmission_delay / package_size\n",
    "\n",
    "link1_logical_length = link1_propagation_delay / link1_duration\n",
    "link2_logical_length = link2_propagation_delay / link2_duration\n",
    "link3_logical_length = link3_propagation_delay / link3_duration\n",
    "\n",
    "print(\"The logical bus length for Link 1 is \" + str(link1_logical_length / package_size) + \" packages\")\n",
    "print(\"The logical bus length for Link 2 is \" + str(link2_logical_length / package_size) + \" packages\")\n",
    "print(\"The logical bus length for Link 3 is \" + str(link3_logical_length / package_size) + \" packages\")\n"
   ],
   "metadata": {
    "collapsed": false,
    "is_executing": true
   },
   "id": "2e89310c1885b3de"
  },
  {
   "cell_type": "markdown",
   "source": [
    "**3) Determine the end-to-end delay for the transmission of a packet over the 3 links in the order of Link 1-Link 2-Link 3. Does the end-to-end delay depend on the order of the links?**"
   ],
   "metadata": {
    "collapsed": false
   },
   "id": "d0808c2c6705bdf"
  },
  {
   "cell_type": "code",
   "execution_count": null,
   "outputs": [],
   "source": [
    "end_to_end_delay = link1_propagation_delay + link1_transmission_delay + link2_propagation_delay + link2_transmission_delay + link3_propagation_delay + link3_transmission_delay\n",
    "\n",
    "print(\"The end to end delay is \" + str(end_to_end_delay * 1_000_000) + \" micro seconds\")"
   ],
   "metadata": {
    "collapsed": false,
    "is_executing": true
   },
   "id": "2b201e77b13d9e01"
  },
  {
   "cell_type": "markdown",
   "source": [
    "If we only have a single packet and each link can handle the packet independently without queuing delays, then the end-to-end delay would simply be the sum of the individual delays for each link, and the order would not matter."
   ],
   "metadata": {
    "collapsed": false
   },
   "id": "4cb0dcad49cf393e"
  },
  {
   "cell_type": "markdown",
   "source": [
    "**4) Now consider a packet burst of 20 packets, meaning 20 packets are transmitted directly one after another. What is the total transmission duration for this packet burst if the links are transferred in the order of Link 1-Link 2-Link 3? In this case, does the total transmission duration depend on the order of the links?**"
   ],
   "metadata": {
    "collapsed": false
   },
   "id": "5defe165f7abc1a9"
  },
  {
   "cell_type": "code",
   "execution_count": 17,
   "outputs": [
    {
     "name": "stdout",
     "output_type": "stream",
     "text": [
      "The total transmission duration for this packet burst is 9.841899999999999ms\n"
     ]
    }
   ],
   "source": [
    "total_transmission_delay = end_to_end_delay + (20 - 1) * link2_propagation_delay\n",
    "\n",
    "print(\"The total transmission duration for this packet burst is \" + str(total_transmission_delay * 1_000) + \"ms\")"
   ],
   "metadata": {
    "collapsed": false,
    "ExecuteTime": {
     "end_time": "2023-11-07T15:58:09.622087Z",
     "start_time": "2023-11-07T15:58:09.618422Z"
    }
   },
   "id": "52901f4a117a9451"
  },
  {
   "cell_type": "markdown",
   "source": [
    "Even with the packet burst of 20 packets, the order of the links has no influence on the total duration, as it only depends on the slowest link."
   ],
   "metadata": {
    "collapsed": false
   },
   "id": "95843631e0988d71"
  }
 ],
 "metadata": {
  "kernelspec": {
   "display_name": "Python 3",
   "language": "python",
   "name": "python3"
  },
  "language_info": {
   "codemirror_mode": {
    "name": "ipython",
    "version": 2
   },
   "file_extension": ".py",
   "mimetype": "text/x-python",
   "name": "python",
   "nbconvert_exporter": "python",
   "pygments_lexer": "ipython2",
   "version": "2.7.6"
  }
 },
 "nbformat": 4,
 "nbformat_minor": 5
}
