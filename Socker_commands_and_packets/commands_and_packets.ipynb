{
 "cells": [
  {
   "cell_type": "markdown",
   "id": "51d56bd0c600919f",
   "metadata": {
    "collapsed": false,
    "jupyter": {
     "outputs_hidden": false
    }
   },
   "source": [
    "| No. | Übertragung (ausgelöst von)        | Empfang (Fertigstellung von)              |\n",
    "| --- | ---------------------------------- | ---------------------------------------- |\n",
    "| 1   | A26 (Verbindungsaufbauversuch, fehlgeschlagen) | Nicht zutreffend                   |\n",
    "| 2   | Nicht zutreffend                   | Nicht zutreffend (RST, ACK Antwort)      |\n",
    "| 3   | A26 (Verbindungsaufbauversuch, fehlgeschlagen) | Nicht zutreffend                   |\n",
    "| 4   | Nicht zutreffend                   | Nicht zutreffend (RST, ACK Antwort)      |\n",
    "| 5   | A26 (Verbindungsaufbauversuch, fehlgeschlagen) | Nicht zutreffend                   |\n",
    "| 6   | Nicht zutreffend                   | A29 (Abbruch des Verbindungsaufbaus)     |\n",
    "| 7   | B26 (Verbindungsaufbauversuch)     | Nicht zutreffend                         |\n",
    "| 8   | A19 (Akzeptieren der Verbindung)   | B26 (Prozess B wird entblockiert)        |\n",
    "| 9   | B26 (Bestätigung des Verbindungsaufbaus) | A19 (Prozess A wird entblockiert)      |\n",
    "| 10  | B27 (Senden der Nachricht \"Thx for accepting!!!\") | A11 (Prozess A wird entblockiert) |\n",
    "| 11  | A11 (Empfang der Nachricht von B)  | B27 (Prozess B wird entblockiert)        |\n",
    "| 12  | A20 (Senden der Nachricht \"Thx for connecting!!!\") | B20 (Prozess B wird entblockiert) |\n",
    "| 13  | B20 (Bestätigung des Nachrichtenempfangs) | B11 (Empfang der Nachricht von A, B befindet sich in Zeile 20) |\n",
    "| 14  | A12 (Schließen der Verbindung)     | B12 (Prozess B wird entblockiert)        |\n",
    "| 15  | B12 (Bestätigung des Verbindungsendes) | A12 (Prozess B wird entblockiert)       |\n",
    "| 16  | Nicht zutreffend                   | Nicht zutreffend (ACK Antwort)           |\n"
   ]
  }
 ],
 "metadata": {
  "kernelspec": {
   "display_name": "Python 3 (ipykernel)",
   "language": "python",
   "name": "python3"
  },
  "language_info": {
   "codemirror_mode": {
    "name": "ipython",
    "version": 3
   },
   "file_extension": ".py",
   "mimetype": "text/x-python",
   "name": "python",
   "nbconvert_exporter": "python",
   "pygments_lexer": "ipython3",
   "version": "3.11.5"
  }
 },
 "nbformat": 4,
 "nbformat_minor": 5
}
