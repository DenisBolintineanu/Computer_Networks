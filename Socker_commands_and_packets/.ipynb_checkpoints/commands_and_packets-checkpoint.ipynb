{
 "cells": [
  {
   "cell_type": "markdown",
   "source": [
    "| No. | Übertragung (ausgelöst von)        | Empfang (Fertigstellung von)              |\n",
    "| --- | ---------------------------------- | ---------------------------------------- |\n",
    "| 1   | A26 (Verbindungsaufbauversuch, fehlgeschlagen) | Nicht zutreffend                   |\n",
    "| 2   | Nicht zutreffend                   | Nicht zutreffend (RST, ACK Antwort)      |\n",
    "| 3   | A26 (Verbindungsaufbauversuch, fehlgeschlagen) | Nicht zutreffend                   |\n",
    "| 4   | Nicht zutreffend                   | Nicht zutreffend (RST, ACK Antwort)      |\n",
    "| 5   | A26 (Verbindungsaufbauversuch, fehlgeschlagen) | Nicht zutreffend                   |\n",
    "| 6   | Nicht zutreffend                   | A29 (Abbruch des Verbindungsaufbaus)     |\n",
    "| 7   | B26 (Verbindungsaufbauversuch)     | Nicht zutreffend                         |\n",
    "| 8   | A19 (Akzeptieren der Verbindung)   | B26 (Prozess B wird entblockiert)        |\n",
    "| 9   | B26 (Bestätigung des Verbindungsaufbaus) | A19 (Prozess A wird entblockiert)      |\n",
    "| 10  | B27 (Senden der Nachricht \"Thx for accepting!!!\") | A11 (Prozess A wird entblockiert) |\n",
    "| 11  | A11 (Empfang der Nachricht von B)  | B27 (Prozess B wird entblockiert)        |\n",
    "| 12  | A20 (Senden der Nachricht \"Thx for connecting!!!\") | B20 (Prozess B wird entblockiert) |\n",
    "| 13  | B20 (Bestätigung des Nachrichtenempfangs) | B11 (Empfang der Nachricht von A, B befindet sich in Zeile 20) |\n",
    "| 14  | A12 (Schließen der Verbindung)     | B12 (Prozess B wird entblockiert)        |\n",
    "| 15  | B12 (Bestätigung des Verbindungsendes) | A12 (Prozess B wird entblockiert)       |\n",
    "| 16  | Nicht zutreffend                   | Nicht zutreffend (ACK Antwort)           |\n"
   ],
   "metadata": {
    "collapsed": false
   },
   "id": "51d56bd0c600919f"
  },
  {
   "cell_type": "code",
   "execution_count": null,
   "outputs": [],
   "source": [],
   "metadata": {
    "collapsed": false,
    "ExecuteTime": {
     "end_time": "2023-12-12T09:18:57.371077Z",
     "start_time": "2023-12-12T09:18:57.366328Z"
    }
   },
   "id": "c2310c8dff21f496"
  }
 ],
 "metadata": {
  "kernelspec": {
   "display_name": "Python 3",
   "language": "python",
   "name": "python3"
  },
  "language_info": {
   "codemirror_mode": {
    "name": "ipython",
    "version": 2
   },
   "file_extension": ".py",
   "mimetype": "text/x-python",
   "name": "python",
   "nbconvert_exporter": "python",
   "pygments_lexer": "ipython2",
   "version": "2.7.6"
  }
 },
 "nbformat": 4,
 "nbformat_minor": 5
}
